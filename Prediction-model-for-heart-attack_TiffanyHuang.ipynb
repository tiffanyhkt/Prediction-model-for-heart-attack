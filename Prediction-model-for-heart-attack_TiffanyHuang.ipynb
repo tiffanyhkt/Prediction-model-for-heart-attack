{
 "cells": [
  {
   "cell_type": "markdown",
   "id": "a9f60520",
   "metadata": {},
   "source": [
    "### 數據集特徵整理"
   ]
  },
  {
   "cell_type": "markdown",
   "id": "bd4a0db1",
   "metadata": {},
   "source": [
    "age(年齡) - Age of the patient \n",
    "\n",
    "sex(性別) - Sex of the patient (0-Female, 1-Male)\n",
    "\n",
    "cp(胸痛類型) - Chest pain type ~ 0 = Typical Angina, 1 = Atypical Angina, 2 = Non-anginal Pain, 3 = Asymptomatic \n",
    "\n",
    "trtbps (靜息血壓) - Resting blood pressure (in mm Hg)\n",
    "\n",
    "chol(膽固醇值) - Cholestoral in mg/dl fetched via BMI sensor \n",
    "\n",
    "fbs(空腹血糖) - (fasting blood sugar > 120 mg/dl) ~ 1 = True, 0 = False \n",
    "\n",
    "restecg(靜息心電圖) - Resting electrocardiographic results ~ 0 = Normal, 1 = ST-T wave normality, 2 = Left ventricular hypertrophy \n",
    "\n",
    "thalachh (最大心率) - Maximum heart rate achieved\n",
    "\n",
    "exng (運動誘發的心絞痛)- Exercise induced angina ~ 1 = Yes, 0 = No \n",
    "\n",
    "oldpeak (之前的高峰)- Previous peak \n",
    "\n",
    "slp (斜率)- Slope\n",
    "\n",
    "caa (血管數量)- Number of major vessels \n",
    "\n",
    "thall(鋇壓力測試結果) - Thalium Stress Test result ~ (0,3) \n",
    "\n",
    "output (心臟病) - target : 0= less chance of heart attack 1= more chance of heart attack"
   ]
  },
  {
   "cell_type": "markdown",
   "id": "e1f61dd3",
   "metadata": {},
   "source": [
    "### Import Libraries"
   ]
  },
  {
   "cell_type": "code",
   "execution_count": 2,
   "id": "005ed357",
   "metadata": {},
   "outputs": [],
   "source": [
    "import pandas as pd\n",
    "import numpy as np\n",
    "import matplotlib.pyplot as plt\n",
    "import seaborn as sns\n",
    "%matplotlib inline"
   ]
  },
  {
   "cell_type": "code",
   "execution_count": 3,
   "id": "c149ba95",
   "metadata": {},
   "outputs": [],
   "source": [
    "from sklearn.preprocessing import MinMaxScaler\n",
    "from sklearn.model_selection import train_test_split"
   ]
  },
  {
   "cell_type": "code",
   "execution_count": 4,
   "id": "47287f82",
   "metadata": {},
   "outputs": [],
   "source": [
    "from sklearn.linear_model import LogisticRegression\n",
    "from sklearn.tree import DecisionTreeClassifier\n",
    "from sklearn.ensemble import RandomForestClassifier\n",
    "from sklearn.neighbors import KNeighborsClassifier\n",
    "from sklearn.svm import SVC"
   ]
  },
  {
   "cell_type": "code",
   "execution_count": 5,
   "id": "cc607d51",
   "metadata": {},
   "outputs": [],
   "source": [
    "from sklearn.metrics import accuracy_score \n",
    "from sklearn.metrics import classification_report, confusion_matrix"
   ]
  },
  {
   "cell_type": "code",
   "execution_count": 6,
   "id": "8c7809c3",
   "metadata": {},
   "outputs": [],
   "source": [
    "from sklearn.decomposition import PCA\n",
    "from sklearn.cluster import KMeans"
   ]
  },
  {
   "cell_type": "markdown",
   "id": "2869dabf",
   "metadata": {},
   "source": [
    "### Load data"
   ]
  },
  {
   "cell_type": "code",
   "execution_count": 7,
   "id": "08163029",
   "metadata": {},
   "outputs": [],
   "source": [
    "heart_data = pd.read_csv('C:\\\\Users\\\\Tiffany\\\\Desktop\\\\國泰作業\\\\dstest2023\\\\heart.csv')"
   ]
  },
  {
   "cell_type": "code",
   "execution_count": 8,
   "id": "54f95e26",
   "metadata": {},
   "outputs": [
    {
     "data": {
      "text/html": [
       "<div>\n",
       "<style scoped>\n",
       "    .dataframe tbody tr th:only-of-type {\n",
       "        vertical-align: middle;\n",
       "    }\n",
       "\n",
       "    .dataframe tbody tr th {\n",
       "        vertical-align: top;\n",
       "    }\n",
       "\n",
       "    .dataframe thead th {\n",
       "        text-align: right;\n",
       "    }\n",
       "</style>\n",
       "<table border=\"1\" class=\"dataframe\">\n",
       "  <thead>\n",
       "    <tr style=\"text-align: right;\">\n",
       "      <th></th>\n",
       "      <th>age</th>\n",
       "      <th>sex</th>\n",
       "      <th>cp</th>\n",
       "      <th>trtbps</th>\n",
       "      <th>chol</th>\n",
       "      <th>fbs</th>\n",
       "      <th>restecg</th>\n",
       "      <th>thalachh</th>\n",
       "      <th>exng</th>\n",
       "      <th>oldpeak</th>\n",
       "      <th>slp</th>\n",
       "      <th>caa</th>\n",
       "      <th>thall</th>\n",
       "      <th>output</th>\n",
       "    </tr>\n",
       "  </thead>\n",
       "  <tbody>\n",
       "    <tr>\n",
       "      <th>0</th>\n",
       "      <td>63</td>\n",
       "      <td>1</td>\n",
       "      <td>3</td>\n",
       "      <td>145</td>\n",
       "      <td>233</td>\n",
       "      <td>1</td>\n",
       "      <td>0</td>\n",
       "      <td>150</td>\n",
       "      <td>0</td>\n",
       "      <td>2.3</td>\n",
       "      <td>0</td>\n",
       "      <td>0</td>\n",
       "      <td>1</td>\n",
       "      <td>1</td>\n",
       "    </tr>\n",
       "    <tr>\n",
       "      <th>1</th>\n",
       "      <td>37</td>\n",
       "      <td>1</td>\n",
       "      <td>2</td>\n",
       "      <td>130</td>\n",
       "      <td>250</td>\n",
       "      <td>0</td>\n",
       "      <td>1</td>\n",
       "      <td>187</td>\n",
       "      <td>0</td>\n",
       "      <td>3.5</td>\n",
       "      <td>0</td>\n",
       "      <td>0</td>\n",
       "      <td>2</td>\n",
       "      <td>1</td>\n",
       "    </tr>\n",
       "    <tr>\n",
       "      <th>2</th>\n",
       "      <td>41</td>\n",
       "      <td>0</td>\n",
       "      <td>1</td>\n",
       "      <td>130</td>\n",
       "      <td>204</td>\n",
       "      <td>0</td>\n",
       "      <td>0</td>\n",
       "      <td>172</td>\n",
       "      <td>0</td>\n",
       "      <td>1.4</td>\n",
       "      <td>2</td>\n",
       "      <td>0</td>\n",
       "      <td>2</td>\n",
       "      <td>1</td>\n",
       "    </tr>\n",
       "    <tr>\n",
       "      <th>3</th>\n",
       "      <td>56</td>\n",
       "      <td>1</td>\n",
       "      <td>1</td>\n",
       "      <td>120</td>\n",
       "      <td>236</td>\n",
       "      <td>0</td>\n",
       "      <td>1</td>\n",
       "      <td>178</td>\n",
       "      <td>0</td>\n",
       "      <td>0.8</td>\n",
       "      <td>2</td>\n",
       "      <td>0</td>\n",
       "      <td>2</td>\n",
       "      <td>1</td>\n",
       "    </tr>\n",
       "    <tr>\n",
       "      <th>4</th>\n",
       "      <td>57</td>\n",
       "      <td>0</td>\n",
       "      <td>0</td>\n",
       "      <td>120</td>\n",
       "      <td>354</td>\n",
       "      <td>0</td>\n",
       "      <td>1</td>\n",
       "      <td>163</td>\n",
       "      <td>1</td>\n",
       "      <td>0.6</td>\n",
       "      <td>2</td>\n",
       "      <td>0</td>\n",
       "      <td>2</td>\n",
       "      <td>1</td>\n",
       "    </tr>\n",
       "  </tbody>\n",
       "</table>\n",
       "</div>"
      ],
      "text/plain": [
       "   age  sex  cp  trtbps  chol  fbs  restecg  thalachh  exng  oldpeak  slp  \\\n",
       "0   63    1   3     145   233    1        0       150     0      2.3    0   \n",
       "1   37    1   2     130   250    0        1       187     0      3.5    0   \n",
       "2   41    0   1     130   204    0        0       172     0      1.4    2   \n",
       "3   56    1   1     120   236    0        1       178     0      0.8    2   \n",
       "4   57    0   0     120   354    0        1       163     1      0.6    2   \n",
       "\n",
       "   caa  thall  output  \n",
       "0    0      1       1  \n",
       "1    0      2       1  \n",
       "2    0      2       1  \n",
       "3    0      2       1  \n",
       "4    0      2       1  "
      ]
     },
     "execution_count": 8,
     "metadata": {},
     "output_type": "execute_result"
    }
   ],
   "source": [
    "heart_data.head()"
   ]
  },
  {
   "cell_type": "code",
   "execution_count": 9,
   "id": "b6d633b5",
   "metadata": {},
   "outputs": [
    {
     "data": {
      "text/plain": [
       "(303, 14)"
      ]
     },
     "execution_count": 9,
     "metadata": {},
     "output_type": "execute_result"
    }
   ],
   "source": [
    "heart_data.shape"
   ]
  },
  {
   "cell_type": "markdown",
   "id": "c6e38a7e",
   "metadata": {},
   "source": [
    "### 初步數據清理 確認格式正確"
   ]
  },
  {
   "cell_type": "code",
   "execution_count": 10,
   "id": "efac2816",
   "metadata": {},
   "outputs": [
    {
     "name": "stdout",
     "output_type": "stream",
     "text": [
      "<class 'pandas.core.frame.DataFrame'>\n",
      "RangeIndex: 303 entries, 0 to 302\n",
      "Data columns (total 14 columns):\n",
      " #   Column    Non-Null Count  Dtype  \n",
      "---  ------    --------------  -----  \n",
      " 0   age       303 non-null    int64  \n",
      " 1   sex       303 non-null    int64  \n",
      " 2   cp        303 non-null    int64  \n",
      " 3   trtbps    303 non-null    int64  \n",
      " 4   chol      303 non-null    int64  \n",
      " 5   fbs       303 non-null    int64  \n",
      " 6   restecg   303 non-null    int64  \n",
      " 7   thalachh  303 non-null    int64  \n",
      " 8   exng      303 non-null    int64  \n",
      " 9   oldpeak   303 non-null    float64\n",
      " 10  slp       303 non-null    int64  \n",
      " 11  caa       303 non-null    int64  \n",
      " 12  thall     303 non-null    int64  \n",
      " 13  output    303 non-null    int64  \n",
      "dtypes: float64(1), int64(13)\n",
      "memory usage: 33.3 KB\n"
     ]
    }
   ],
   "source": [
    "heart_data.info()"
   ]
  },
  {
   "cell_type": "markdown",
   "id": "752d91ca",
   "metadata": {},
   "source": [
    "- 確認有無缺失值 (No missing values)"
   ]
  },
  {
   "cell_type": "code",
   "execution_count": 11,
   "id": "3fd2ef3c",
   "metadata": {},
   "outputs": [
    {
     "data": {
      "text/plain": [
       "age         0\n",
       "sex         0\n",
       "cp          0\n",
       "trtbps      0\n",
       "chol        0\n",
       "fbs         0\n",
       "restecg     0\n",
       "thalachh    0\n",
       "exng        0\n",
       "oldpeak     0\n",
       "slp         0\n",
       "caa         0\n",
       "thall       0\n",
       "output      0\n",
       "dtype: int64"
      ]
     },
     "execution_count": 11,
     "metadata": {},
     "output_type": "execute_result"
    }
   ],
   "source": [
    "heart_data.isnull().sum()"
   ]
  },
  {
   "cell_type": "markdown",
   "id": "928b9cdb",
   "metadata": {},
   "source": [
    "### Exploratory Data Analysis 探索性資料分析"
   ]
  },
  {
   "cell_type": "markdown",
   "id": "a2b2a3aa",
   "metadata": {},
   "source": [
    "- Summary statistics 統計數據"
   ]
  },
  {
   "cell_type": "code",
   "execution_count": 12,
   "id": "f136b4f4",
   "metadata": {},
   "outputs": [
    {
     "data": {
      "text/html": [
       "<div>\n",
       "<style scoped>\n",
       "    .dataframe tbody tr th:only-of-type {\n",
       "        vertical-align: middle;\n",
       "    }\n",
       "\n",
       "    .dataframe tbody tr th {\n",
       "        vertical-align: top;\n",
       "    }\n",
       "\n",
       "    .dataframe thead th {\n",
       "        text-align: right;\n",
       "    }\n",
       "</style>\n",
       "<table border=\"1\" class=\"dataframe\">\n",
       "  <thead>\n",
       "    <tr style=\"text-align: right;\">\n",
       "      <th></th>\n",
       "      <th>count</th>\n",
       "      <th>mean</th>\n",
       "      <th>std</th>\n",
       "      <th>min</th>\n",
       "      <th>25%</th>\n",
       "      <th>50%</th>\n",
       "      <th>75%</th>\n",
       "      <th>max</th>\n",
       "    </tr>\n",
       "  </thead>\n",
       "  <tbody>\n",
       "    <tr>\n",
       "      <th>age</th>\n",
       "      <td>303.00</td>\n",
       "      <td>54.37</td>\n",
       "      <td>9.08</td>\n",
       "      <td>29.00</td>\n",
       "      <td>47.50</td>\n",
       "      <td>55.00</td>\n",
       "      <td>61.00</td>\n",
       "      <td>77.00</td>\n",
       "    </tr>\n",
       "    <tr>\n",
       "      <th>sex</th>\n",
       "      <td>303.00</td>\n",
       "      <td>0.68</td>\n",
       "      <td>0.47</td>\n",
       "      <td>0.00</td>\n",
       "      <td>0.00</td>\n",
       "      <td>1.00</td>\n",
       "      <td>1.00</td>\n",
       "      <td>1.00</td>\n",
       "    </tr>\n",
       "    <tr>\n",
       "      <th>cp</th>\n",
       "      <td>303.00</td>\n",
       "      <td>0.97</td>\n",
       "      <td>1.03</td>\n",
       "      <td>0.00</td>\n",
       "      <td>0.00</td>\n",
       "      <td>1.00</td>\n",
       "      <td>2.00</td>\n",
       "      <td>3.00</td>\n",
       "    </tr>\n",
       "    <tr>\n",
       "      <th>trtbps</th>\n",
       "      <td>303.00</td>\n",
       "      <td>131.62</td>\n",
       "      <td>17.54</td>\n",
       "      <td>94.00</td>\n",
       "      <td>120.00</td>\n",
       "      <td>130.00</td>\n",
       "      <td>140.00</td>\n",
       "      <td>200.00</td>\n",
       "    </tr>\n",
       "    <tr>\n",
       "      <th>chol</th>\n",
       "      <td>303.00</td>\n",
       "      <td>246.26</td>\n",
       "      <td>51.83</td>\n",
       "      <td>126.00</td>\n",
       "      <td>211.00</td>\n",
       "      <td>240.00</td>\n",
       "      <td>274.50</td>\n",
       "      <td>564.00</td>\n",
       "    </tr>\n",
       "    <tr>\n",
       "      <th>fbs</th>\n",
       "      <td>303.00</td>\n",
       "      <td>0.15</td>\n",
       "      <td>0.36</td>\n",
       "      <td>0.00</td>\n",
       "      <td>0.00</td>\n",
       "      <td>0.00</td>\n",
       "      <td>0.00</td>\n",
       "      <td>1.00</td>\n",
       "    </tr>\n",
       "    <tr>\n",
       "      <th>restecg</th>\n",
       "      <td>303.00</td>\n",
       "      <td>0.53</td>\n",
       "      <td>0.53</td>\n",
       "      <td>0.00</td>\n",
       "      <td>0.00</td>\n",
       "      <td>1.00</td>\n",
       "      <td>1.00</td>\n",
       "      <td>2.00</td>\n",
       "    </tr>\n",
       "    <tr>\n",
       "      <th>thalachh</th>\n",
       "      <td>303.00</td>\n",
       "      <td>149.65</td>\n",
       "      <td>22.91</td>\n",
       "      <td>71.00</td>\n",
       "      <td>133.50</td>\n",
       "      <td>153.00</td>\n",
       "      <td>166.00</td>\n",
       "      <td>202.00</td>\n",
       "    </tr>\n",
       "    <tr>\n",
       "      <th>exng</th>\n",
       "      <td>303.00</td>\n",
       "      <td>0.33</td>\n",
       "      <td>0.47</td>\n",
       "      <td>0.00</td>\n",
       "      <td>0.00</td>\n",
       "      <td>0.00</td>\n",
       "      <td>1.00</td>\n",
       "      <td>1.00</td>\n",
       "    </tr>\n",
       "    <tr>\n",
       "      <th>oldpeak</th>\n",
       "      <td>303.00</td>\n",
       "      <td>1.04</td>\n",
       "      <td>1.16</td>\n",
       "      <td>0.00</td>\n",
       "      <td>0.00</td>\n",
       "      <td>0.80</td>\n",
       "      <td>1.60</td>\n",
       "      <td>6.20</td>\n",
       "    </tr>\n",
       "    <tr>\n",
       "      <th>slp</th>\n",
       "      <td>303.00</td>\n",
       "      <td>1.40</td>\n",
       "      <td>0.62</td>\n",
       "      <td>0.00</td>\n",
       "      <td>1.00</td>\n",
       "      <td>1.00</td>\n",
       "      <td>2.00</td>\n",
       "      <td>2.00</td>\n",
       "    </tr>\n",
       "    <tr>\n",
       "      <th>caa</th>\n",
       "      <td>303.00</td>\n",
       "      <td>0.73</td>\n",
       "      <td>1.02</td>\n",
       "      <td>0.00</td>\n",
       "      <td>0.00</td>\n",
       "      <td>0.00</td>\n",
       "      <td>1.00</td>\n",
       "      <td>4.00</td>\n",
       "    </tr>\n",
       "    <tr>\n",
       "      <th>thall</th>\n",
       "      <td>303.00</td>\n",
       "      <td>2.31</td>\n",
       "      <td>0.61</td>\n",
       "      <td>0.00</td>\n",
       "      <td>2.00</td>\n",
       "      <td>2.00</td>\n",
       "      <td>3.00</td>\n",
       "      <td>3.00</td>\n",
       "    </tr>\n",
       "    <tr>\n",
       "      <th>output</th>\n",
       "      <td>303.00</td>\n",
       "      <td>0.54</td>\n",
       "      <td>0.50</td>\n",
       "      <td>0.00</td>\n",
       "      <td>0.00</td>\n",
       "      <td>1.00</td>\n",
       "      <td>1.00</td>\n",
       "      <td>1.00</td>\n",
       "    </tr>\n",
       "  </tbody>\n",
       "</table>\n",
       "</div>"
      ],
      "text/plain": [
       "          count   mean   std    min    25%    50%    75%    max\n",
       "age      303.00  54.37  9.08  29.00  47.50  55.00  61.00  77.00\n",
       "sex      303.00   0.68  0.47   0.00   0.00   1.00   1.00   1.00\n",
       "cp       303.00   0.97  1.03   0.00   0.00   1.00   2.00   3.00\n",
       "trtbps   303.00 131.62 17.54  94.00 120.00 130.00 140.00 200.00\n",
       "chol     303.00 246.26 51.83 126.00 211.00 240.00 274.50 564.00\n",
       "fbs      303.00   0.15  0.36   0.00   0.00   0.00   0.00   1.00\n",
       "restecg  303.00   0.53  0.53   0.00   0.00   1.00   1.00   2.00\n",
       "thalachh 303.00 149.65 22.91  71.00 133.50 153.00 166.00 202.00\n",
       "exng     303.00   0.33  0.47   0.00   0.00   0.00   1.00   1.00\n",
       "oldpeak  303.00   1.04  1.16   0.00   0.00   0.80   1.60   6.20\n",
       "slp      303.00   1.40  0.62   0.00   1.00   1.00   2.00   2.00\n",
       "caa      303.00   0.73  1.02   0.00   0.00   0.00   1.00   4.00\n",
       "thall    303.00   2.31  0.61   0.00   2.00   2.00   3.00   3.00\n",
       "output   303.00   0.54  0.50   0.00   0.00   1.00   1.00   1.00"
      ]
     },
     "execution_count": 12,
     "metadata": {},
     "output_type": "execute_result"
    }
   ],
   "source": [
    "pd.set_option('display.float_format', '{:.2f}'.format)\n",
    "heart_data.describe().transpose()"
   ]
  },
  {
   "cell_type": "markdown",
   "id": "624aa59d",
   "metadata": {},
   "source": [
    "- 從統計數據可以看出:\n",
    "\n",
    "    - 是否得心臟病：平均的罹病率為54%\n",
    "    - 年齡分佈：平均年齡54歲，最小29歲，最大77歲\n",
    "    - 性別分布: 68% 病患為男性\n",
    "\n",
    "    其他數值的分布狀態:\n",
    "    - trtbps (靜息血壓) 平均 132 mm Hg\n",
    "    - chol (膽固醇值) 平均 246\n",
    "    - thalachh (最大心率) 平均 150"
   ]
  },
  {
   "cell_type": "markdown",
   "id": "467495a5",
   "metadata": {},
   "source": [
    "- 區分 continuous_data and categorical_data 方便 EDA 展示"
   ]
  },
  {
   "cell_type": "code",
   "execution_count": 13,
   "id": "53142361",
   "metadata": {},
   "outputs": [
    {
     "data": {
      "text/plain": [
       "age          41\n",
       "sex           2\n",
       "cp            4\n",
       "trtbps       49\n",
       "chol        152\n",
       "fbs           2\n",
       "restecg       3\n",
       "thalachh     91\n",
       "exng          2\n",
       "oldpeak      40\n",
       "slp           3\n",
       "caa           5\n",
       "thall         4\n",
       "output        2\n",
       "dtype: int64"
      ]
     },
     "execution_count": 13,
     "metadata": {},
     "output_type": "execute_result"
    }
   ],
   "source": [
    "heart_data.nunique()"
   ]
  },
  {
   "cell_type": "code",
   "execution_count": 14,
   "id": "a877253d",
   "metadata": {},
   "outputs": [],
   "source": [
    "continuous_data = ['age','trtbps','chol','thalachh','oldpeak']\n",
    "categorical_data = ['sex','cp','fbs','restecg','exng','slp','caa','thall','output']"
   ]
  },
  {
   "cell_type": "markdown",
   "id": "352b0a66",
   "metadata": {},
   "source": [
    "- 了解 continuous_data 分布狀態\n",
    "\n",
    "    圖中可看出:\n",
    "    \n",
    "    - 年齡分佈主要落在 40-70 歲之間\n",
    "    \n",
    "    - trtbps (靜息血壓)主要落在 120-140\n",
    "    \n",
    "    - chol(膽固醇值)主要落在 200-300\n",
    "    \n",
    "    - thalachh (最大心率)主要落在 140-180\n",
    "    \n",
    "    - oldpeak (之前的高峰)主要落在 0-1"
   ]
  },
  {
   "cell_type": "code",
   "execution_count": 15,
   "id": "e7736241",
   "metadata": {},
   "outputs": [
    {
     "data": {
      "image/png": "[encoded data removed]",
      "text/plain": [
       "<Figure size 1500x1000 with 5 Axes>"
      ]
     },
     "metadata": {},
     "output_type": "display_data"
    }
   ],
   "source": [
    "sns.set(style=\"whitegrid\")\n",
    "plt.figure(figsize=(15, 10))\n",
    "for index, continuous in enumerate(continuous_data):\n",
    "    plt.subplot(2,3,index+1) #'index + 1'參數指定當前子圖在網格中的位置\n",
    "    sns.histplot(x=continuous, data=heart_data, kde=True)\n",
    "plt.tight_layout()"
   ]
  },
  {
   "cell_type": "markdown",
   "id": "9d2d507b",
   "metadata": {},
   "source": [
    "- 搭配 Target variable (output) 了解 continuous_data 分布狀態"
   ]
  },
  {
   "cell_type": "code",
   "execution_count": 16,
   "id": "d5909070",
   "metadata": {},
   "outputs": [
    {
     "data": {
      "image/png": "[encoded data removed]",
      "text/plain": [
       "<Figure size 1500x1000 with 5 Axes>"
      ]
     },
     "metadata": {},
     "output_type": "display_data"
    }
   ],
   "source": [
    "sns.set(style=\"whitegrid\")\n",
    "plt.figure(figsize=(15, 10))\n",
    "for index, continuous in enumerate(continuous_data):\n",
    "    plt.subplot(2,3,index+1) \n",
    "    sns.histplot(x=continuous, data=heart_data, hue='output')\n",
    "plt.tight_layout()"
   ]
  },
  {
   "cell_type": "markdown",
   "id": "53f6d4f7",
   "metadata": {},
   "source": [
    "- 運用 boxplot 了解 continuous_data 數據分布的統計資訊\n",
    "\n",
    "    圖中可看出特徵數據的中位數, 四分位數與異常值\n",
    "\n",
    "    \"異常值\" 會在資料預處理時進行處理"
   ]
  },
  {
   "cell_type": "code",
   "execution_count": 17,
   "id": "75ab6b41",
   "metadata": {},
   "outputs": [
    {
     "data": {
      "image/png": "[encoded data removed]",
      "text/plain": [
       "<Figure size 1000x400 with 5 Axes>"
      ]
     },
     "metadata": {},
     "output_type": "display_data"
    }
   ],
   "source": [
    "sns.set(style=\"whitegrid\")\n",
    "plt.figure(figsize=(10, 4))\n",
    "for index, continuous in enumerate(continuous_data):\n",
    "    plt.subplot(2,3,index+1)\n",
    "    sns.boxplot(x=continuous, data=heart_data)\n",
    "plt.tight_layout()"
   ]
  },
  {
   "cell_type": "markdown",
   "id": "e5672251",
   "metadata": {},
   "source": [
    "- 運用 bar charts 了解 categorical_data 分布狀態\n",
    "\n",
    "    圖中可看出:\n",
    "    \n",
    "    - Sex - 男性 (1) 病患數量明顯高於女性 (0)\n",
    "    - cp (胸痛類型) - 0 = Typical Angina, 2 = Non-anginal Pain 佔較多數\n",
    "    - fbs (空腹血糖) - 大部分病患的 fbs 並無 (> 120 mg/dl) \n",
    "    - restecg (靜息心電圖) - 多數病患結果為 0 = Normal, 1 = ST-T wave normality\n",
    "    - exng (運動誘發的心絞痛) - 沒有此症狀的患者佔多數 \n",
    "    - output (心臟病) - 心臟病發作機率較高 (1) 的數量稍多於機率較低 (0) 的數量\n",
    "          ，兩個類別數看起來相對平衡 -> 可以幫助模型學習並區分兩個類別"
   ]
  },
  {
   "cell_type": "code",
   "execution_count": 18,
   "id": "7a046487",
   "metadata": {},
   "outputs": [
    {
     "data": {
      "image/png": "[encoded data removed]",
      "text/plain": [
       "<Figure size 1000x1000 with 9 Axes>"
      ]
     },
     "metadata": {},
     "output_type": "display_data"
    }
   ],
   "source": [
    "sns.set(style=\"whitegrid\")\n",
    "plt.figure(figsize=(10, 10))\n",
    "for index, category in enumerate(categorical_data):\n",
    "    plt.subplot(3,3,index+1) \n",
    "    sns.countplot(x=category, data=heart_data)\n",
    "plt.tight_layout()"
   ]
  },
  {
   "cell_type": "markdown",
   "id": "ddafc751",
   "metadata": {},
   "source": [
    "- 運用 Correlation matrix 了解連續特徵與目標變數之間的相關性\n",
    "\n",
    "    單看特徵與特徵之間:\n",
    "    如果相關係數大於 0.7 或小於 -0.7，表示存在顯著的共線性\n",
    "    \n",
    "    由圖可看出:\n",
    "    - 連續變量間 -> 沒有顯著的共線性問題\n",
    "    - output 和其他特徵之間的相關性 -> 作為特徵選擇的依據與參考"
   ]
  },
  {
   "cell_type": "code",
   "execution_count": 19,
   "id": "ec206301",
   "metadata": {},
   "outputs": [
    {
     "data": {
      "text/plain": [
       "Text(0.5, 1.0, 'Correlation matrix between continuous data and target variable')"
      ]
     },
     "execution_count": 19,
     "metadata": {},
     "output_type": "execute_result"
    },
    {
     "data": {
      "image/png": "[encoded data removed]",
      "text/plain": [
       "<Figure size 1200x800 with 2 Axes>"
      ]
     },
     "metadata": {},
     "output_type": "display_data"
    }
   ],
   "source": [
    "con_with_target = continuous_data + ['output']\n",
    "\n",
    "plt.figure(figsize=(12, 8))\n",
    "tar_corr_con_data = heart_data[con_with_target].corr()\n",
    "sns.heatmap(data=tar_corr_con_data, cmap='coolwarm', annot=True)\n",
    "plt.title('Correlation matrix between continuous data and target variable')"
   ]
  },
  {
   "cell_type": "markdown",
   "id": "405a9790",
   "metadata": {},
   "source": [
    "### Data Preprocessing 資料預處理"
   ]
  },
  {
   "cell_type": "markdown",
   "id": "70de5bcd",
   "metadata": {},
   "source": [
    "1. 處理缺失值 \n",
    "\n",
    "2. 處理異常值 (outliers)\n",
    "\n",
    "3. Categorical string 轉換成 numerical variables (One-hot encoding) "
   ]
  },
  {
   "cell_type": "markdown",
   "id": "6f64f68b",
   "metadata": {},
   "source": [
    "1. 處理缺失值 \n",
    "-> 此 data set 沒有 null values"
   ]
  },
  {
   "cell_type": "markdown",
   "id": "55556f31",
   "metadata": {},
   "source": [
    "2. 處理異常值 (outliers)\n",
    "\n",
    "    使用 IQR（四分位範圍）來識別 outliers，並對 continuous data 進行異常值處理"
   ]
  },
  {
   "cell_type": "code",
   "execution_count": 20,
   "id": "b6cc04d3",
   "metadata": {},
   "outputs": [
    {
     "data": {
      "text/html": [
       "<div>\n",
       "<style scoped>\n",
       "    .dataframe tbody tr th:only-of-type {\n",
       "        vertical-align: middle;\n",
       "    }\n",
       "\n",
       "    .dataframe tbody tr th {\n",
       "        vertical-align: top;\n",
       "    }\n",
       "\n",
       "    .dataframe thead th {\n",
       "        text-align: right;\n",
       "    }\n",
       "</style>\n",
       "<table border=\"1\" class=\"dataframe\">\n",
       "  <thead>\n",
       "    <tr style=\"text-align: right;\">\n",
       "      <th></th>\n",
       "      <th>age</th>\n",
       "      <th>trtbps</th>\n",
       "      <th>chol</th>\n",
       "      <th>thalachh</th>\n",
       "      <th>oldpeak</th>\n",
       "    </tr>\n",
       "  </thead>\n",
       "  <tbody>\n",
       "    <tr>\n",
       "      <th>0</th>\n",
       "      <td>63</td>\n",
       "      <td>145</td>\n",
       "      <td>233</td>\n",
       "      <td>150</td>\n",
       "      <td>2.30</td>\n",
       "    </tr>\n",
       "    <tr>\n",
       "      <th>1</th>\n",
       "      <td>37</td>\n",
       "      <td>130</td>\n",
       "      <td>250</td>\n",
       "      <td>187</td>\n",
       "      <td>3.50</td>\n",
       "    </tr>\n",
       "    <tr>\n",
       "      <th>2</th>\n",
       "      <td>41</td>\n",
       "      <td>130</td>\n",
       "      <td>204</td>\n",
       "      <td>172</td>\n",
       "      <td>1.40</td>\n",
       "    </tr>\n",
       "    <tr>\n",
       "      <th>3</th>\n",
       "      <td>56</td>\n",
       "      <td>120</td>\n",
       "      <td>236</td>\n",
       "      <td>178</td>\n",
       "      <td>0.80</td>\n",
       "    </tr>\n",
       "    <tr>\n",
       "      <th>4</th>\n",
       "      <td>57</td>\n",
       "      <td>120</td>\n",
       "      <td>354</td>\n",
       "      <td>163</td>\n",
       "      <td>0.60</td>\n",
       "    </tr>\n",
       "  </tbody>\n",
       "</table>\n",
       "</div>"
      ],
      "text/plain": [
       "   age  trtbps  chol  thalachh  oldpeak\n",
       "0   63     145   233       150     2.30\n",
       "1   37     130   250       187     3.50\n",
       "2   41     130   204       172     1.40\n",
       "3   56     120   236       178     0.80\n",
       "4   57     120   354       163     0.60"
      ]
     },
     "execution_count": 20,
     "metadata": {},
     "output_type": "execute_result"
    }
   ],
   "source": [
    "heart_data[continuous_data].head()"
   ]
  },
  {
   "cell_type": "code",
   "execution_count": 21,
   "id": "b7df5f34",
   "metadata": {},
   "outputs": [
    {
     "data": {
      "text/plain": [
       "<Axes: xlabel='trtbps'>"
      ]
     },
     "execution_count": 21,
     "metadata": {},
     "output_type": "execute_result"
    },
    {
     "data": {
      "image/png": "[encoded data removed]",
      "text/plain": [
       "<Figure size 640x480 with 1 Axes>"
      ]
     },
     "metadata": {},
     "output_type": "display_data"
    }
   ],
   "source": [
    "sns.boxplot(x='trtbps', data=heart_data)"
   ]
  },
  {
   "cell_type": "code",
   "execution_count": 22,
   "id": "505d140d",
   "metadata": {},
   "outputs": [],
   "source": [
    "# #test 1 feature - trtbps\n",
    "\n",
    "# Q1=heart_data['trtbps'].quantile(0.25)\n",
    "# Q3=heart_data['trtbps'].quantile(0.75)\n",
    "# IQR=Q3-Q1\n",
    "# outliers=((heart_data['trtbps'] < (Q1 - 1.5 * IQR)) | (heart_data['trtbps'] > (Q3 + 1.5 * IQR)))\n",
    "# outliers\n",
    "# heart_data[outliers==True]"
   ]
  },
  {
   "cell_type": "code",
   "execution_count": 23,
   "id": "56a013b8",
   "metadata": {},
   "outputs": [],
   "source": [
    "for feature in continuous_data:\n",
    "    Q1=heart_data[feature].quantile(0.25)\n",
    "    Q3=heart_data[feature].quantile(0.75)\n",
    "    IQR=Q3-Q1\n",
    "    \n",
    "    outliers=((heart_data[feature] < (Q1 - 1.5 * IQR)) | (heart_data[feature] > (Q3 + 1.5 * IQR)))\n",
    "    heart_data = heart_data[outliers==False]"
   ]
  },
  {
   "cell_type": "markdown",
   "id": "6a456c15",
   "metadata": {},
   "source": [
    "- 處理完 outliers，透過 boxplot 視覺化進行檢查"
   ]
  },
  {
   "cell_type": "code",
   "execution_count": 24,
   "id": "bac78fb6",
   "metadata": {},
   "outputs": [
    {
     "data": {
      "image/png": "[encoded data removed]",
      "text/plain": [
       "<Figure size 1000x400 with 5 Axes>"
      ]
     },
     "metadata": {},
     "output_type": "display_data"
    }
   ],
   "source": [
    "sns.set(style=\"whitegrid\")\n",
    "plt.figure(figsize=(10, 4))\n",
    "for index, continuous in enumerate(continuous_data):\n",
    "    plt.subplot(2,3,index+1)\n",
    "    sns.boxplot(x=continuous, data=heart_data)\n",
    "plt.tight_layout()"
   ]
  },
  {
   "cell_type": "markdown",
   "id": "a74d04f1",
   "metadata": {},
   "source": [
    "3. Categorical string 轉換成 numerical variables (One-hot encoding) "
   ]
  },
  {
   "cell_type": "markdown",
   "id": "6d479301",
   "metadata": {},
   "source": [
    "- One-hot encoding 前的資料維度"
   ]
  },
  {
   "cell_type": "code",
   "execution_count": 25,
   "id": "3c905f9e",
   "metadata": {},
   "outputs": [
    {
     "data": {
      "text/plain": [
       "(284, 14)"
      ]
     },
     "execution_count": 25,
     "metadata": {},
     "output_type": "execute_result"
    }
   ],
   "source": [
    "heart_data.shape"
   ]
  },
  {
   "cell_type": "code",
   "execution_count": 26,
   "id": "20e7e500",
   "metadata": {},
   "outputs": [
    {
     "data": {
      "text/html": [
       "<div>\n",
       "<style scoped>\n",
       "    .dataframe tbody tr th:only-of-type {\n",
       "        vertical-align: middle;\n",
       "    }\n",
       "\n",
       "    .dataframe tbody tr th {\n",
       "        vertical-align: top;\n",
       "    }\n",
       "\n",
       "    .dataframe thead th {\n",
       "        text-align: right;\n",
       "    }\n",
       "</style>\n",
       "<table border=\"1\" class=\"dataframe\">\n",
       "  <thead>\n",
       "    <tr style=\"text-align: right;\">\n",
       "      <th></th>\n",
       "      <th>age</th>\n",
       "      <th>sex</th>\n",
       "      <th>cp</th>\n",
       "      <th>trtbps</th>\n",
       "      <th>chol</th>\n",
       "      <th>fbs</th>\n",
       "      <th>restecg</th>\n",
       "      <th>thalachh</th>\n",
       "      <th>exng</th>\n",
       "      <th>oldpeak</th>\n",
       "      <th>slp</th>\n",
       "      <th>caa</th>\n",
       "      <th>thall</th>\n",
       "      <th>output</th>\n",
       "    </tr>\n",
       "  </thead>\n",
       "  <tbody>\n",
       "    <tr>\n",
       "      <th>0</th>\n",
       "      <td>63</td>\n",
       "      <td>1</td>\n",
       "      <td>3</td>\n",
       "      <td>145</td>\n",
       "      <td>233</td>\n",
       "      <td>1</td>\n",
       "      <td>0</td>\n",
       "      <td>150</td>\n",
       "      <td>0</td>\n",
       "      <td>2.30</td>\n",
       "      <td>0</td>\n",
       "      <td>0</td>\n",
       "      <td>1</td>\n",
       "      <td>1</td>\n",
       "    </tr>\n",
       "    <tr>\n",
       "      <th>1</th>\n",
       "      <td>37</td>\n",
       "      <td>1</td>\n",
       "      <td>2</td>\n",
       "      <td>130</td>\n",
       "      <td>250</td>\n",
       "      <td>0</td>\n",
       "      <td>1</td>\n",
       "      <td>187</td>\n",
       "      <td>0</td>\n",
       "      <td>3.50</td>\n",
       "      <td>0</td>\n",
       "      <td>0</td>\n",
       "      <td>2</td>\n",
       "      <td>1</td>\n",
       "    </tr>\n",
       "    <tr>\n",
       "      <th>2</th>\n",
       "      <td>41</td>\n",
       "      <td>0</td>\n",
       "      <td>1</td>\n",
       "      <td>130</td>\n",
       "      <td>204</td>\n",
       "      <td>0</td>\n",
       "      <td>0</td>\n",
       "      <td>172</td>\n",
       "      <td>0</td>\n",
       "      <td>1.40</td>\n",
       "      <td>2</td>\n",
       "      <td>0</td>\n",
       "      <td>2</td>\n",
       "      <td>1</td>\n",
       "    </tr>\n",
       "    <tr>\n",
       "      <th>3</th>\n",
       "      <td>56</td>\n",
       "      <td>1</td>\n",
       "      <td>1</td>\n",
       "      <td>120</td>\n",
       "      <td>236</td>\n",
       "      <td>0</td>\n",
       "      <td>1</td>\n",
       "      <td>178</td>\n",
       "      <td>0</td>\n",
       "      <td>0.80</td>\n",
       "      <td>2</td>\n",
       "      <td>0</td>\n",
       "      <td>2</td>\n",
       "      <td>1</td>\n",
       "    </tr>\n",
       "    <tr>\n",
       "      <th>4</th>\n",
       "      <td>57</td>\n",
       "      <td>0</td>\n",
       "      <td>0</td>\n",
       "      <td>120</td>\n",
       "      <td>354</td>\n",
       "      <td>0</td>\n",
       "      <td>1</td>\n",
       "      <td>163</td>\n",
       "      <td>1</td>\n",
       "      <td>0.60</td>\n",
       "      <td>2</td>\n",
       "      <td>0</td>\n",
       "      <td>2</td>\n",
       "      <td>1</td>\n",
       "    </tr>\n",
       "  </tbody>\n",
       "</table>\n",
       "</div>"
      ],
      "text/plain": [
       "   age  sex  cp  trtbps  chol  fbs  restecg  thalachh  exng  oldpeak  slp  \\\n",
       "0   63    1   3     145   233    1        0       150     0     2.30    0   \n",
       "1   37    1   2     130   250    0        1       187     0     3.50    0   \n",
       "2   41    0   1     130   204    0        0       172     0     1.40    2   \n",
       "3   56    1   1     120   236    0        1       178     0     0.80    2   \n",
       "4   57    0   0     120   354    0        1       163     1     0.60    2   \n",
       "\n",
       "   caa  thall  output  \n",
       "0    0      1       1  \n",
       "1    0      2       1  \n",
       "2    0      2       1  \n",
       "3    0      2       1  \n",
       "4    0      2       1  "
      ]
     },
     "execution_count": 26,
     "metadata": {},
     "output_type": "execute_result"
    }
   ],
   "source": [
    "heart_data.head()"
   ]
  },
  {
   "cell_type": "markdown",
   "id": "7b61e270",
   "metadata": {},
   "source": [
    "- 針對 categoriacal data 進行 One-hot encoding 處理"
   ]
  },
  {
   "cell_type": "code",
   "execution_count": 27,
   "id": "f523ebe6",
   "metadata": {},
   "outputs": [
    {
     "data": {
      "text/plain": [
       "Index(['age', 'trtbps', 'chol', 'thalachh', 'oldpeak', 'output', 'sex_1',\n",
       "       'cp_1', 'cp_2', 'cp_3', 'fbs_1', 'restecg_1', 'restecg_2', 'exng_1',\n",
       "       'slp_1', 'slp_2', 'caa_1', 'caa_2', 'caa_3', 'caa_4', 'thall_1',\n",
       "       'thall_2', 'thall_3'],\n",
       "      dtype='object')"
      ]
     },
     "execution_count": 27,
     "metadata": {},
     "output_type": "execute_result"
    }
   ],
   "source": [
    "heart_data = pd.get_dummies(heart_data, columns=['sex', 'cp', 'fbs', 'restecg', 'exng',\n",
    "                                    'slp', 'caa', 'thall'],drop_first=True)\n",
    "heart_data.columns"
   ]
  },
  {
   "cell_type": "markdown",
   "id": "6b65ef0a",
   "metadata": {},
   "source": [
    "- One-hot encoding 後的資料維度"
   ]
  },
  {
   "cell_type": "code",
   "execution_count": 28,
   "id": "8834da8e",
   "metadata": {},
   "outputs": [
    {
     "data": {
      "text/plain": [
       "(284, 23)"
      ]
     },
     "execution_count": 28,
     "metadata": {},
     "output_type": "execute_result"
    }
   ],
   "source": [
    "heart_data.shape"
   ]
  },
  {
   "cell_type": "code",
   "execution_count": 29,
   "id": "e505bc50",
   "metadata": {},
   "outputs": [
    {
     "data": {
      "text/html": [
       "<div>\n",
       "<style scoped>\n",
       "    .dataframe tbody tr th:only-of-type {\n",
       "        vertical-align: middle;\n",
       "    }\n",
       "\n",
       "    .dataframe tbody tr th {\n",
       "        vertical-align: top;\n",
       "    }\n",
       "\n",
       "    .dataframe thead th {\n",
       "        text-align: right;\n",
       "    }\n",
       "</style>\n",
       "<table border=\"1\" class=\"dataframe\">\n",
       "  <thead>\n",
       "    <tr style=\"text-align: right;\">\n",
       "      <th></th>\n",
       "      <th>age</th>\n",
       "      <th>trtbps</th>\n",
       "      <th>chol</th>\n",
       "      <th>thalachh</th>\n",
       "      <th>oldpeak</th>\n",
       "      <th>output</th>\n",
       "      <th>sex_1</th>\n",
       "      <th>cp_1</th>\n",
       "      <th>cp_2</th>\n",
       "      <th>cp_3</th>\n",
       "      <th>...</th>\n",
       "      <th>exng_1</th>\n",
       "      <th>slp_1</th>\n",
       "      <th>slp_2</th>\n",
       "      <th>caa_1</th>\n",
       "      <th>caa_2</th>\n",
       "      <th>caa_3</th>\n",
       "      <th>caa_4</th>\n",
       "      <th>thall_1</th>\n",
       "      <th>thall_2</th>\n",
       "      <th>thall_3</th>\n",
       "    </tr>\n",
       "  </thead>\n",
       "  <tbody>\n",
       "    <tr>\n",
       "      <th>0</th>\n",
       "      <td>63</td>\n",
       "      <td>145</td>\n",
       "      <td>233</td>\n",
       "      <td>150</td>\n",
       "      <td>2.30</td>\n",
       "      <td>1</td>\n",
       "      <td>1</td>\n",
       "      <td>0</td>\n",
       "      <td>0</td>\n",
       "      <td>1</td>\n",
       "      <td>...</td>\n",
       "      <td>0</td>\n",
       "      <td>0</td>\n",
       "      <td>0</td>\n",
       "      <td>0</td>\n",
       "      <td>0</td>\n",
       "      <td>0</td>\n",
       "      <td>0</td>\n",
       "      <td>1</td>\n",
       "      <td>0</td>\n",
       "      <td>0</td>\n",
       "    </tr>\n",
       "    <tr>\n",
       "      <th>1</th>\n",
       "      <td>37</td>\n",
       "      <td>130</td>\n",
       "      <td>250</td>\n",
       "      <td>187</td>\n",
       "      <td>3.50</td>\n",
       "      <td>1</td>\n",
       "      <td>1</td>\n",
       "      <td>0</td>\n",
       "      <td>1</td>\n",
       "      <td>0</td>\n",
       "      <td>...</td>\n",
       "      <td>0</td>\n",
       "      <td>0</td>\n",
       "      <td>0</td>\n",
       "      <td>0</td>\n",
       "      <td>0</td>\n",
       "      <td>0</td>\n",
       "      <td>0</td>\n",
       "      <td>0</td>\n",
       "      <td>1</td>\n",
       "      <td>0</td>\n",
       "    </tr>\n",
       "    <tr>\n",
       "      <th>2</th>\n",
       "      <td>41</td>\n",
       "      <td>130</td>\n",
       "      <td>204</td>\n",
       "      <td>172</td>\n",
       "      <td>1.40</td>\n",
       "      <td>1</td>\n",
       "      <td>0</td>\n",
       "      <td>1</td>\n",
       "      <td>0</td>\n",
       "      <td>0</td>\n",
       "      <td>...</td>\n",
       "      <td>0</td>\n",
       "      <td>0</td>\n",
       "      <td>1</td>\n",
       "      <td>0</td>\n",
       "      <td>0</td>\n",
       "      <td>0</td>\n",
       "      <td>0</td>\n",
       "      <td>0</td>\n",
       "      <td>1</td>\n",
       "      <td>0</td>\n",
       "    </tr>\n",
       "    <tr>\n",
       "      <th>3</th>\n",
       "      <td>56</td>\n",
       "      <td>120</td>\n",
       "      <td>236</td>\n",
       "      <td>178</td>\n",
       "      <td>0.80</td>\n",
       "      <td>1</td>\n",
       "      <td>1</td>\n",
       "      <td>1</td>\n",
       "      <td>0</td>\n",
       "      <td>0</td>\n",
       "      <td>...</td>\n",
       "      <td>0</td>\n",
       "      <td>0</td>\n",
       "      <td>1</td>\n",
       "      <td>0</td>\n",
       "      <td>0</td>\n",
       "      <td>0</td>\n",
       "      <td>0</td>\n",
       "      <td>0</td>\n",
       "      <td>1</td>\n",
       "      <td>0</td>\n",
       "    </tr>\n",
       "    <tr>\n",
       "      <th>4</th>\n",
       "      <td>57</td>\n",
       "      <td>120</td>\n",
       "      <td>354</td>\n",
       "      <td>163</td>\n",
       "      <td>0.60</td>\n",
       "      <td>1</td>\n",
       "      <td>0</td>\n",
       "      <td>0</td>\n",
       "      <td>0</td>\n",
       "      <td>0</td>\n",
       "      <td>...</td>\n",
       "      <td>1</td>\n",
       "      <td>0</td>\n",
       "      <td>1</td>\n",
       "      <td>0</td>\n",
       "      <td>0</td>\n",
       "      <td>0</td>\n",
       "      <td>0</td>\n",
       "      <td>0</td>\n",
       "      <td>1</td>\n",
       "      <td>0</td>\n",
       "    </tr>\n",
       "  </tbody>\n",
       "</table>\n",
       "<p>5 rows × 23 columns</p>\n",
       "</div>"
      ],
      "text/plain": [
       "   age  trtbps  chol  thalachh  oldpeak  output  sex_1  cp_1  cp_2  cp_3  ...  \\\n",
       "0   63     145   233       150     2.30       1      1     0     0     1  ...   \n",
       "1   37     130   250       187     3.50       1      1     0     1     0  ...   \n",
       "2   41     130   204       172     1.40       1      0     1     0     0  ...   \n",
       "3   56     120   236       178     0.80       1      1     1     0     0  ...   \n",
       "4   57     120   354       163     0.60       1      0     0     0     0  ...   \n",
       "\n",
       "   exng_1  slp_1  slp_2  caa_1  caa_2  caa_3  caa_4  thall_1  thall_2  thall_3  \n",
       "0       0      0      0      0      0      0      0        1        0        0  \n",
       "1       0      0      0      0      0      0      0        0        1        0  \n",
       "2       0      0      1      0      0      0      0        0        1        0  \n",
       "3       0      0      1      0      0      0      0        0        1        0  \n",
       "4       1      0      1      0      0      0      0        0        1        0  \n",
       "\n",
       "[5 rows x 23 columns]"
      ]
     },
     "execution_count": 29,
     "metadata": {},
     "output_type": "execute_result"
    }
   ],
   "source": [
    "heart_data.head()"
   ]
  },
  {
   "cell_type": "markdown",
   "id": "5fc3be73",
   "metadata": {},
   "source": [
    "### Train Test Split 分割數據集 "
   ]
  },
  {
   "cell_type": "markdown",
   "id": "d889c65d",
   "metadata": {},
   "source": [
    "- 將數據集拆分為 Training data (80%), Test data (20%)"
   ]
  },
  {
   "cell_type": "code",
   "execution_count": 811,
   "id": "fdcf81e4",
   "metadata": {},
   "outputs": [],
   "source": [
    "X = heart_data.drop('output', axis=1)\n",
    "y = heart_data['output']\n",
    "X_train, X_test, y_train, y_test = train_test_split(X, y, test_size=0.2, random_state=101)"
   ]
  },
  {
   "cell_type": "markdown",
   "id": "9c9c7d4f",
   "metadata": {},
   "source": [
    "### Feature Engineering 特徵工程"
   ]
  },
  {
   "cell_type": "markdown",
   "id": "e314a87a",
   "metadata": {},
   "source": [
    "- Normalization\n",
    "\n",
    "    Normalize X_train and X_test: 0~1，讓不同的特徵都有相同的標準去給模型學習"
   ]
  },
  {
   "cell_type": "code",
   "execution_count": 812,
   "id": "e73765e6",
   "metadata": {},
   "outputs": [],
   "source": [
    "scaler = MinMaxScaler()\n",
    "X_train_normalized = scaler.fit_transform(X_train)\n",
    "X_test_normalized = scaler.transform(X_test)"
   ]
  },
  {
   "cell_type": "code",
   "execution_count": 813,
   "id": "8a6931c3",
   "metadata": {},
   "outputs": [
    {
     "data": {
      "text/plain": [
       "(227, 22)"
      ]
     },
     "execution_count": 813,
     "metadata": {},
     "output_type": "execute_result"
    }
   ],
   "source": [
    "X_train_normalized.shape"
   ]
  },
  {
   "cell_type": "code",
   "execution_count": 814,
   "id": "3f72b639",
   "metadata": {},
   "outputs": [
    {
     "data": {
      "text/plain": [
       "(57, 22)"
      ]
     },
     "execution_count": 814,
     "metadata": {},
     "output_type": "execute_result"
    }
   ],
   "source": [
    "X_test_normalized.shape"
   ]
  },
  {
   "cell_type": "markdown",
   "id": "6917862d",
   "metadata": {},
   "source": [
    "### Create the Model and Training"
   ]
  },
  {
   "cell_type": "markdown",
   "id": "c460fffd",
   "metadata": {},
   "source": [
    "模型目的: 根據過去的心臟病資料集，預測病人是否高機率得心臟病\n",
    "- Supervised Learning 監督式學習 - Classification 分類問題\n",
    "- 適用於分類問題的機器學習模型如下所示"
   ]
  },
  {
   "cell_type": "markdown",
   "id": "7d85a45a",
   "metadata": {},
   "source": [
    "Test Different models, and see which has higher Accuracy\n",
    "\n",
    "1. Logistic Regression (邏輯迴歸): 將數據擬合到一個邏輯函數來預測事件發生的概率，並將數據分為兩類\n",
    "\n",
    "2. Decision Tree (決策樹): 樹狀結構處理分類問題，內部節點代表各個特徵的測試\n",
    "\n",
    "3. RandomForest (隨機森林): 一種集成學習方法，建立多個決策樹並將預測結果組合起來，通常比單一決策樹有更好的預測結果\n",
    "\n",
    "4. KNN (K-Nearest Neighbors): 基於距離，鄰近性的學習方法。找出'訓練集'中與'測試集'最近的K個點(鄰居)，根據鄰居的多數類別來進行預測\n",
    "\n",
    "5. SVM（支持向量機）: 基於距離，在特徵空間中尋找到一個最優的分割超平面，進行分類\n",
    "    (二維:一條線，三維:一個平面，更高維度:超平面)"
   ]
  },
  {
   "cell_type": "code",
   "execution_count": 815,
   "id": "e88c4e1c",
   "metadata": {},
   "outputs": [],
   "source": [
    "lr_model = LogisticRegression()\n",
    "dt_model = DecisionTreeClassifier()\n",
    "rf_model = RandomForestClassifier()\n",
    "knn_model = KNeighborsClassifier()\n",
    "svm_model = SVC()"
   ]
  },
  {
   "cell_type": "code",
   "execution_count": 816,
   "id": "dcee7e5f",
   "metadata": {},
   "outputs": [
    {
     "data": {
      "text/html": [
       "<style>#sk-container-id-10 {color: black;background-color: white;}#sk-container-id-10 pre{padding: 0;}#sk-container-id-10 div.sk-toggleable {background-color: white;}#sk-container-id-10 label.sk-toggleable__label {cursor: pointer;display: block;width: 100%;margin-bottom: 0;padding: 0.3em;box-sizing: border-box;text-align: center;}#sk-container-id-10 label.sk-toggleable__label-arrow:before {content: \"▸\";float: left;margin-right: 0.25em;color: #696969;}#sk-container-id-10 label.sk-toggleable__label-arrow:hover:before {color: black;}#sk-container-id-10 div.sk-estimator:hover label.sk-toggleable__label-arrow:before {color: black;}#sk-container-id-10 div.sk-toggleable__content {max-height: 0;max-width: 0;overflow: hidden;text-align: left;background-color: #f0f8ff;}#sk-container-id-10 div.sk-toggleable__content pre {margin: 0.2em;color: black;border-radius: 0.25em;background-color: #f0f8ff;}#sk-container-id-10 input.sk-toggleable__control:checked~div.sk-toggleable__content {max-height: 200px;max-width: 100%;overflow: auto;}#sk-container-id-10 input.sk-toggleable__control:checked~label.sk-toggleable__label-arrow:before {content: \"▾\";}#sk-container-id-10 div.sk-estimator input.sk-toggleable__control:checked~label.sk-toggleable__label {background-color: #d4ebff;}#sk-container-id-10 div.sk-label input.sk-toggleable__control:checked~label.sk-toggleable__label {background-color: #d4ebff;}#sk-container-id-10 input.sk-hidden--visually {border: 0;clip: rect(1px 1px 1px 1px);clip: rect(1px, 1px, 1px, 1px);height: 1px;margin: -1px;overflow: hidden;padding: 0;position: absolute;width: 1px;}#sk-container-id-10 div.sk-estimator {font-family: monospace;background-color: #f0f8ff;border: 1px dotted black;border-radius: 0.25em;box-sizing: border-box;margin-bottom: 0.5em;}#sk-container-id-10 div.sk-estimator:hover {background-color: #d4ebff;}#sk-container-id-10 div.sk-parallel-item::after {content: \"\";width: 100%;border-bottom: 1px solid gray;flex-grow: 1;}#sk-container-id-10 div.sk-label:hover label.sk-toggleable__label {background-color: #d4ebff;}#sk-container-id-10 div.sk-serial::before {content: \"\";position: absolute;border-left: 1px solid gray;box-sizing: border-box;top: 0;bottom: 0;left: 50%;z-index: 0;}#sk-container-id-10 div.sk-serial {display: flex;flex-direction: column;align-items: center;background-color: white;padding-right: 0.2em;padding-left: 0.2em;position: relative;}#sk-container-id-10 div.sk-item {position: relative;z-index: 1;}#sk-container-id-10 div.sk-parallel {display: flex;align-items: stretch;justify-content: center;background-color: white;position: relative;}#sk-container-id-10 div.sk-item::before, #sk-container-id-10 div.sk-parallel-item::before {content: \"\";position: absolute;border-left: 1px solid gray;box-sizing: border-box;top: 0;bottom: 0;left: 50%;z-index: -1;}#sk-container-id-10 div.sk-parallel-item {display: flex;flex-direction: column;z-index: 1;position: relative;background-color: white;}#sk-container-id-10 div.sk-parallel-item:first-child::after {align-self: flex-end;width: 50%;}#sk-container-id-10 div.sk-parallel-item:last-child::after {align-self: flex-start;width: 50%;}#sk-container-id-10 div.sk-parallel-item:only-child::after {width: 0;}#sk-container-id-10 div.sk-dashed-wrapped {border: 1px dashed gray;margin: 0 0.4em 0.5em 0.4em;box-sizing: border-box;padding-bottom: 0.4em;background-color: white;}#sk-container-id-10 div.sk-label label {font-family: monospace;font-weight: bold;display: inline-block;line-height: 1.2em;}#sk-container-id-10 div.sk-label-container {text-align: center;}#sk-container-id-10 div.sk-container {/* jupyter's `normalize.less` sets `[hidden] { display: none; }` but bootstrap.min.css set `[hidden] { display: none !important; }` so we also need the `!important` here to be able to override the default hidden behavior on the sphinx rendered scikit-learn.org. See: https://github.com/scikit-learn/scikit-learn/issues/21755 */display: inline-block !important;position: relative;}#sk-container-id-10 div.sk-text-repr-fallback {display: none;}</style><div id=\"sk-container-id-10\" class=\"sk-top-container\"><div class=\"sk-text-repr-fallback\"><pre>SVC()</pre><b>In a Jupyter environment, please rerun this cell to show the HTML representation or trust the notebook. <br />On GitHub, the HTML representation is unable to render, please try loading this page with nbviewer.org.</b></div><div class=\"sk-container\" hidden><div class=\"sk-item\"><div class=\"sk-estimator sk-toggleable\"><input class=\"sk-toggleable__control sk-hidden--visually\" id=\"sk-estimator-id-10\" type=\"checkbox\" checked><label for=\"sk-estimator-id-10\" class=\"sk-toggleable__label sk-toggleable__label-arrow\">SVC</label><div class=\"sk-toggleable__content\"><pre>SVC()</pre></div></div></div></div></div>"
      ],
      "text/plain": [
       "SVC()"
      ]
     },
     "execution_count": 816,
     "metadata": {},
     "output_type": "execute_result"
    }
   ],
   "source": [
    "lr_model.fit(X_train_normalized, y_train)\n",
    "dt_model.fit(X_train_normalized, y_train)\n",
    "rf_model.fit(X_train_normalized, y_train)\n",
    "knn_model.fit(X_train_normalized, y_train)\n",
    "svm_model.fit(X_train_normalized, y_train)"
   ]
  },
  {
   "cell_type": "code",
   "execution_count": 817,
   "id": "fded772d",
   "metadata": {},
   "outputs": [],
   "source": [
    "y_pred_lr = lr_model.predict(X_test_normalized)\n",
    "y_pred_dt = dt_model.predict(X_test_normalized)\n",
    "y_pred_rf = rf_model.predict(X_test_normalized)\n",
    "y_pred_knn = knn_model.predict(X_test_normalized)\n",
    "y_pred_svm = svm_model.predict(X_test_normalized)"
   ]
  },
  {
   "cell_type": "code",
   "execution_count": 818,
   "id": "866ad469",
   "metadata": {},
   "outputs": [],
   "source": [
    "accuracy_lr = accuracy_score(y_test, y_pred_lr)\n",
    "accuracy_dt = accuracy_score(y_test, y_pred_dt)\n",
    "accuracy_rf = accuracy_score(y_test, y_pred_rf)\n",
    "accuracy_knn = accuracy_score(y_test, y_pred_knn)\n",
    "accuracy_svm = accuracy_score(y_test, y_pred_svm)"
   ]
  },
  {
   "cell_type": "code",
   "execution_count": 819,
   "id": "6f0d4362",
   "metadata": {},
   "outputs": [
    {
     "name": "stdout",
     "output_type": "stream",
     "text": [
      "Accuracy of Logistic Regression: 0.82\n",
      "Accuracy of Decision Tree: 0.67\n",
      "Accuracy of Random Forest: 0.77\n",
      "Accuracy of KNN: 0.81\n",
      "Accuracy of SVM: 0.82\n"
     ]
    }
   ],
   "source": [
    "print(\"Accuracy of Logistic Regression:\", round(accuracy_lr, 2))\n",
    "print(\"Accuracy of Decision Tree:\", round(accuracy_dt, 2))\n",
    "print(\"Accuracy of Random Forest:\", round(accuracy_rf, 2))\n",
    "print(\"Accuracy of KNN:\", round(accuracy_knn, 2))\n",
    "print(\"Accuracy of SVM:\", round(accuracy_svm, 2))"
   ]
  },
  {
   "cell_type": "markdown",
   "id": "a1d52afb",
   "metadata": {},
   "source": [
    "### Evaluate the model"
   ]
  },
  {
   "cell_type": "markdown",
   "id": "acbad89b",
   "metadata": {},
   "source": [
    "1. Classification report\n",
    "    - Precision: 模型預測為 Positive，有多少是真正的 Positive (TP/(TP+FP))\n",
    "    - Recall: 真正的 Positive，有多少被模型正確預測為 Positive (TP/(TP+FN))\n",
    "    - F1-score: 根據 Precision and Recall 的綜合指標 (衡量準確率)\n",
    "2. Confusion matrix\n",
    "   - TP | FN\n",
    "   - FP | TN"
   ]
  },
  {
   "cell_type": "code",
   "execution_count": 820,
   "id": "433ce477",
   "metadata": {},
   "outputs": [
    {
     "name": "stdout",
     "output_type": "stream",
     "text": [
      "Logistic Regression classification_report\n",
      "              precision    recall  f1-score   support\n",
      "\n",
      "           0       0.86      0.80      0.83        30\n",
      "           1       0.79      0.85      0.82        27\n",
      "\n",
      "    accuracy                           0.82        57\n",
      "   macro avg       0.83      0.83      0.82        57\n",
      "weighted avg       0.83      0.82      0.82        57\n",
      "\n",
      "[[24  6]\n",
      " [ 4 23]]\n"
     ]
    },
    {
     "data": {
      "text/plain": [
       "Text(0.5, 1.0, 'Confusion Matrix for Logistic Regression')"
      ]
     },
     "execution_count": 820,
     "metadata": {},
     "output_type": "execute_result"
    },
    {
     "data": {
      "image/png": "[encoded data removed]",
      "text/plain": [
       "<Figure size 640x480 with 2 Axes>"
      ]
     },
     "metadata": {},
     "output_type": "display_data"
    }
   ],
   "source": [
    "print('Logistic Regression classification_report')\n",
    "print(classification_report(y_test, y_pred_lr))\n",
    "cm_lr = confusion_matrix(y_test, y_pred_lr)\n",
    "print(cm_lr)\n",
    "sns.heatmap(cm_lr, annot=True)\n",
    "plt.xlabel('Predicted')\n",
    "plt.ylabel('True')\n",
    "plt.title('Confusion Matrix for Logistic Regression')"
   ]
  },
  {
   "cell_type": "code",
   "execution_count": 821,
   "id": "75d77388",
   "metadata": {},
   "outputs": [
    {
     "name": "stdout",
     "output_type": "stream",
     "text": [
      "Decision Tree classification_report\n",
      "              precision    recall  f1-score   support\n",
      "\n",
      "           0       0.69      0.67      0.68        30\n",
      "           1       0.64      0.67      0.65        27\n",
      "\n",
      "    accuracy                           0.67        57\n",
      "   macro avg       0.67      0.67      0.67        57\n",
      "weighted avg       0.67      0.67      0.67        57\n",
      "\n"
     ]
    },
    {
     "data": {
      "text/plain": [
       "Text(0.5, 1.0, 'Confusion Matrix for Decision Tree')"
      ]
     },
     "execution_count": 821,
     "metadata": {},
     "output_type": "execute_result"
    },
    {
     "data": {
      "image/png": "[encoded data removed]",
      "text/plain": [
       "<Figure size 640x480 with 2 Axes>"
      ]
     },
     "metadata": {},
     "output_type": "display_data"
    }
   ],
   "source": [
    "print('Decision Tree classification_report')\n",
    "print(classification_report(y_test, y_pred_dt))\n",
    "cm_dt = confusion_matrix(y_test, y_pred_dt)\n",
    "sns.heatmap(cm_dt, annot=True)\n",
    "plt.xlabel('Predicted')\n",
    "plt.ylabel('True')\n",
    "plt.title('Confusion Matrix for Decision Tree')"
   ]
  },
  {
   "cell_type": "code",
   "execution_count": 822,
   "id": "0c1d035d",
   "metadata": {},
   "outputs": [
    {
     "name": "stdout",
     "output_type": "stream",
     "text": [
      "Random Forest classification_report\n",
      "              precision    recall  f1-score   support\n",
      "\n",
      "           0       0.77      0.80      0.79        30\n",
      "           1       0.77      0.74      0.75        27\n",
      "\n",
      "    accuracy                           0.77        57\n",
      "   macro avg       0.77      0.77      0.77        57\n",
      "weighted avg       0.77      0.77      0.77        57\n",
      "\n"
     ]
    },
    {
     "data": {
      "text/plain": [
       "Text(0.5, 1.0, 'Confusion Matrix for Random Forest')"
      ]
     },
     "execution_count": 822,
     "metadata": {},
     "output_type": "execute_result"
    },
    {
     "data": {
      "image/png": "[encoded data removed]",
      "text/plain": [
       "<Figure size 640x480 with 2 Axes>"
      ]
     },
     "metadata": {},
     "output_type": "display_data"
    }
   ],
   "source": [
    "print('Random Forest classification_report')\n",
    "print(classification_report(y_test, y_pred_rf))\n",
    "cm_rf = confusion_matrix(y_test, y_pred_rf)\n",
    "sns.heatmap(cm_rf, annot=True)\n",
    "plt.xlabel('Predicted')\n",
    "plt.ylabel('True')\n",
    "plt.title('Confusion Matrix for Random Forest')"
   ]
  },
  {
   "cell_type": "code",
   "execution_count": 823,
   "id": "e5420ba0",
   "metadata": {},
   "outputs": [
    {
     "name": "stdout",
     "output_type": "stream",
     "text": [
      "KNN classification_report\n",
      "              precision    recall  f1-score   support\n",
      "\n",
      "           0       0.83      0.80      0.81        30\n",
      "           1       0.79      0.81      0.80        27\n",
      "\n",
      "    accuracy                           0.81        57\n",
      "   macro avg       0.81      0.81      0.81        57\n",
      "weighted avg       0.81      0.81      0.81        57\n",
      "\n"
     ]
    },
    {
     "data": {
      "text/plain": [
       "Text(0.5, 1.0, 'Confusion Matrix for KNN')"
      ]
     },
     "execution_count": 823,
     "metadata": {},
     "output_type": "execute_result"
    },
    {
     "data": {
      "image/png": "[encoded data removed]",
      "text/plain": [
       "<Figure size 640x480 with 2 Axes>"
      ]
     },
     "metadata": {},
     "output_type": "display_data"
    }
   ],
   "source": [
    "print('KNN classification_report')\n",
    "print(classification_report(y_test, y_pred_knn))\n",
    "cm_knn = confusion_matrix(y_test, y_pred_knn)\n",
    "sns.heatmap(cm_knn, annot=True)\n",
    "plt.xlabel('Predicted')\n",
    "plt.ylabel('True')\n",
    "plt.title('Confusion Matrix for KNN')"
   ]
  },
  {
   "cell_type": "code",
   "execution_count": 824,
   "id": "954c9ab0",
   "metadata": {},
   "outputs": [
    {
     "name": "stdout",
     "output_type": "stream",
     "text": [
      "SVM classification_report\n",
      "              precision    recall  f1-score   support\n",
      "\n",
      "           0       0.86      0.80      0.83        30\n",
      "           1       0.79      0.85      0.82        27\n",
      "\n",
      "    accuracy                           0.82        57\n",
      "   macro avg       0.83      0.83      0.82        57\n",
      "weighted avg       0.83      0.82      0.82        57\n",
      "\n"
     ]
    },
    {
     "data": {
      "text/plain": [
       "Text(0.5, 1.0, 'Confusion Matrix for SVM')"
      ]
     },
     "execution_count": 824,
     "metadata": {},
     "output_type": "execute_result"
    },
    {
     "data": {
      "image/png": "[encoded data removed]",
      "text/plain": [
       "<Figure size 640x480 with 2 Axes>"
      ]
     },
     "metadata": {},
     "output_type": "display_data"
    }
   ],
   "source": [
    "print('SVM classification_report')\n",
    "print(classification_report(y_test, y_pred_svm))\n",
    "cm_svm = confusion_matrix(y_test, y_pred_svm)\n",
    "sns.heatmap(cm_svm, annot=True)\n",
    "plt.xlabel('Predicted')\n",
    "plt.ylabel('True')\n",
    "plt.title('Confusion Matrix for SVM')"
   ]
  },
  {
   "cell_type": "markdown",
   "id": "6c3f0380",
   "metadata": {},
   "source": [
    "### 優化 Logostic Regression 準確度 (當前 82%)\n",
    "五個模型比較下來 Logistic Regression 和 SVM 的準確度是比較高的 82%\n",
    "\n",
    "Logistic Regression 和 SVM 得到相同的準確度與相同 confusion matrix 分布，可能原因:\n",
    "\n",
    "    - 數據是線性可分的（可以用一條直線或平面輕鬆區分不同類別）在線性方法的模型，可能會出現類似結果。\n",
    "    - 較小或簡單的數據集，模型容易學習數據中的關鍵特徵，導致預測上的表現相似。\n",
    "    \n",
    "因為數據集較小, 我使用 Logistic Regression 來進行進階延伸, tune 3 種方法來提升準確度 (SVM 適合更複雜或是高維度的數據集)"
   ]
  },
  {
   "cell_type": "code",
   "execution_count": 825,
   "id": "1f6bb4ad",
   "metadata": {
    "scrolled": true
   },
   "outputs": [
    {
     "name": "stdout",
     "output_type": "stream",
     "text": [
      "Accuracy of Logistic Regression: 0.82\n"
     ]
    }
   ],
   "source": [
    "print(\"Accuracy of Logistic Regression:\", round(accuracy_lr, 2))"
   ]
  },
  {
   "cell_type": "markdown",
   "id": "2273013e",
   "metadata": {},
   "source": [
    "### 進階延伸: 3 種優化實驗, 測試準確度是否提升\n",
    "1. 建立一個 納入 PCA (主成分分析) 的 Logistic Regression Model\n",
    "2. 性別分群 (建立男女性別各自的 Logistic Regression Model)\n",
    "3. K-means 分群 (建立 2 clusters 各自的 Logistic Regression Model)"
   ]
  },
  {
   "cell_type": "markdown",
   "id": "7ea32ea2",
   "metadata": {},
   "source": [
    "### Tune 1 - 納入PCA"
   ]
  },
  {
   "cell_type": "markdown",
   "id": "070c3fe7",
   "metadata": {},
   "source": [
    "PCA 主成分分析, n_components 參數選擇與測試\n",
    "- 設定為小數（Ex: 0.9）:保留原始數據 90% 方差的主成分數量\n",
    "- 設定為整數: 指定降維後保留的主成分數量"
   ]
  },
  {
   "cell_type": "code",
   "execution_count": 826,
   "id": "5706a4b8",
   "metadata": {},
   "outputs": [
    {
     "data": {
      "text/html": [
       "<div>\n",
       "<style scoped>\n",
       "    .dataframe tbody tr th:only-of-type {\n",
       "        vertical-align: middle;\n",
       "    }\n",
       "\n",
       "    .dataframe tbody tr th {\n",
       "        vertical-align: top;\n",
       "    }\n",
       "\n",
       "    .dataframe thead th {\n",
       "        text-align: right;\n",
       "    }\n",
       "</style>\n",
       "<table border=\"1\" class=\"dataframe\">\n",
       "  <thead>\n",
       "    <tr style=\"text-align: right;\">\n",
       "      <th></th>\n",
       "      <th>Accuracy of Logistic Regression</th>\n",
       "    </tr>\n",
       "  </thead>\n",
       "  <tbody>\n",
       "    <tr>\n",
       "      <th>0.70</th>\n",
       "      <td>0.75</td>\n",
       "    </tr>\n",
       "    <tr>\n",
       "      <th>0.75</th>\n",
       "      <td>0.75</td>\n",
       "    </tr>\n",
       "    <tr>\n",
       "      <th>0.80</th>\n",
       "      <td>0.74</td>\n",
       "    </tr>\n",
       "    <tr>\n",
       "      <th>0.85</th>\n",
       "      <td>0.75</td>\n",
       "    </tr>\n",
       "    <tr>\n",
       "      <th>0.90</th>\n",
       "      <td>0.77</td>\n",
       "    </tr>\n",
       "    <tr>\n",
       "      <th>0.95</th>\n",
       "      <td>0.82</td>\n",
       "    </tr>\n",
       "    <tr>\n",
       "      <th>1.00</th>\n",
       "      <td>0.84</td>\n",
       "    </tr>\n",
       "    <tr>\n",
       "      <th>2.00</th>\n",
       "      <td>0.82</td>\n",
       "    </tr>\n",
       "    <tr>\n",
       "      <th>3.00</th>\n",
       "      <td>0.77</td>\n",
       "    </tr>\n",
       "    <tr>\n",
       "      <th>4.00</th>\n",
       "      <td>0.77</td>\n",
       "    </tr>\n",
       "    <tr>\n",
       "      <th>5.00</th>\n",
       "      <td>0.75</td>\n",
       "    </tr>\n",
       "    <tr>\n",
       "      <th>6.00</th>\n",
       "      <td>0.75</td>\n",
       "    </tr>\n",
       "  </tbody>\n",
       "</table>\n",
       "</div>"
      ],
      "text/plain": [
       "      Accuracy of Logistic Regression\n",
       "0.70                             0.75\n",
       "0.75                             0.75\n",
       "0.80                             0.74\n",
       "0.85                             0.75\n",
       "0.90                             0.77\n",
       "0.95                             0.82\n",
       "1.00                             0.84\n",
       "2.00                             0.82\n",
       "3.00                             0.77\n",
       "4.00                             0.77\n",
       "5.00                             0.75\n",
       "6.00                             0.75"
      ]
     },
     "execution_count": 826,
     "metadata": {},
     "output_type": "execute_result"
    }
   ],
   "source": [
    "Logistic_array=[]\n",
    "test_PCA_n=[0.7,0.75,0.8,0.85,0.9,0.95,1,2,3,4,5,6]\n",
    "\n",
    "for i in test_PCA_n:\n",
    "    pca = PCA(n_components=i)\n",
    "    X_train_pca = pca.fit_transform(X_train_normalized)\n",
    "    X_test_pca = pca.transform(X_test_normalized)\n",
    "    \n",
    "    lr_model = LogisticRegression()\n",
    "    lr_model.fit(X_train_pca, y_train)\n",
    "    y_pred_lr = lr_model.predict(X_test_pca)\n",
    "    accuracy_lr = round(accuracy_score(y_test, y_pred_lr), 2)\n",
    "    \n",
    "    #print('n_components=', i)\n",
    "    #print(\"Accuracy of Logistic Regression:\", accuracy_lr)\n",
    "    #print('=========================')\n",
    "    Logistic_array.append(accuracy_lr)\n",
    "\n",
    "PCA_n_df = pd.DataFrame(index=test_PCA_n, data={'Accuracy of Logistic Regression': Logistic_array})\n",
    "PCA_n_df"
   ]
  },
  {
   "cell_type": "code",
   "execution_count": 827,
   "id": "c5f76deb",
   "metadata": {},
   "outputs": [
    {
     "data": {
      "text/plain": [
       "Text(67.25, 0.5, 'PCA - Num of components')"
      ]
     },
     "execution_count": 827,
     "metadata": {},
     "output_type": "execute_result"
    },
    {
     "data": {
      "image/png": "[encoded data removed]",
      "text/plain": [
       "<Figure size 800x500 with 2 Axes>"
      ]
     },
     "metadata": {},
     "output_type": "display_data"
    }
   ],
   "source": [
    "plt.figure(figsize=(8,5))\n",
    "sns.heatmap(PCA_n_df,annot=True, cmap='coolwarm')\n",
    "plt.ylabel('PCA - Num of components')"
   ]
  },
  {
   "cell_type": "markdown",
   "id": "f26efd5b",
   "metadata": {},
   "source": [
    "### 結果: PCA(n_components=1) tune 完之後的準確度為最高: 84%\n",
    "- 相較於原 Logistic Regression Model 提升 2 % Accuracy"
   ]
  },
  {
   "cell_type": "markdown",
   "id": "259a4db9",
   "metadata": {},
   "source": [
    "下方使用 PCA(n_components=1) -> 降維後保留 1 個主成分進行分析"
   ]
  },
  {
   "cell_type": "code",
   "execution_count": 828,
   "id": "431f1c6a",
   "metadata": {},
   "outputs": [
    {
     "data": {
      "text/plain": [
       "(227, 1)"
      ]
     },
     "execution_count": 828,
     "metadata": {},
     "output_type": "execute_result"
    }
   ],
   "source": [
    "pca = PCA(n_components=1)\n",
    "X_train_pca = pca.fit_transform(X_train_normalized)\n",
    "X_test_pca = pca.transform(X_test_normalized)\n",
    "\n",
    "X_train_pca.shape"
   ]
  },
  {
   "cell_type": "code",
   "execution_count": 829,
   "id": "7d564f85",
   "metadata": {},
   "outputs": [
    {
     "name": "stdout",
     "output_type": "stream",
     "text": [
      "Accuracy of Logistic Regression after PCA: 0.84\n"
     ]
    }
   ],
   "source": [
    "lr_model = LogisticRegression()\n",
    "lr_model.fit(X_train_pca, y_train)\n",
    "y_pred_lr = lr_model.predict(X_test_pca)\n",
    "accuracy_lr = round(accuracy_score(y_test, y_pred_lr), 2)\n",
    "print(\"Accuracy of Logistic Regression after PCA:\", accuracy_lr)"
   ]
  },
  {
   "cell_type": "markdown",
   "id": "dedf633c",
   "metadata": {},
   "source": [
    "### Tune 2 - 進行性別分群 (建立男女性別各自的 Logistic Regression Model)\n",
    "- 從 EDA 探索性資料分析階段觀察到 男性占總數據集 68%\n",
    "- 透過性別分群，探討男女各自建立 Logistic Regression Model，準確度是否會提升"
   ]
  },
  {
   "cell_type": "code",
   "execution_count": 830,
   "id": "1c52adec",
   "metadata": {},
   "outputs": [
    {
     "data": {
      "text/html": [
       "<div>\n",
       "<style scoped>\n",
       "    .dataframe tbody tr th:only-of-type {\n",
       "        vertical-align: middle;\n",
       "    }\n",
       "\n",
       "    .dataframe tbody tr th {\n",
       "        vertical-align: top;\n",
       "    }\n",
       "\n",
       "    .dataframe thead th {\n",
       "        text-align: right;\n",
       "    }\n",
       "</style>\n",
       "<table border=\"1\" class=\"dataframe\">\n",
       "  <thead>\n",
       "    <tr style=\"text-align: right;\">\n",
       "      <th></th>\n",
       "      <th>age</th>\n",
       "      <th>trtbps</th>\n",
       "      <th>chol</th>\n",
       "      <th>thalachh</th>\n",
       "      <th>oldpeak</th>\n",
       "      <th>output</th>\n",
       "      <th>sex_1</th>\n",
       "      <th>cp_1</th>\n",
       "      <th>cp_2</th>\n",
       "      <th>cp_3</th>\n",
       "      <th>...</th>\n",
       "      <th>exng_1</th>\n",
       "      <th>slp_1</th>\n",
       "      <th>slp_2</th>\n",
       "      <th>caa_1</th>\n",
       "      <th>caa_2</th>\n",
       "      <th>caa_3</th>\n",
       "      <th>caa_4</th>\n",
       "      <th>thall_1</th>\n",
       "      <th>thall_2</th>\n",
       "      <th>thall_3</th>\n",
       "    </tr>\n",
       "  </thead>\n",
       "  <tbody>\n",
       "    <tr>\n",
       "      <th>0</th>\n",
       "      <td>63</td>\n",
       "      <td>145</td>\n",
       "      <td>233</td>\n",
       "      <td>150</td>\n",
       "      <td>2.30</td>\n",
       "      <td>1</td>\n",
       "      <td>1</td>\n",
       "      <td>0</td>\n",
       "      <td>0</td>\n",
       "      <td>1</td>\n",
       "      <td>...</td>\n",
       "      <td>0</td>\n",
       "      <td>0</td>\n",
       "      <td>0</td>\n",
       "      <td>0</td>\n",
       "      <td>0</td>\n",
       "      <td>0</td>\n",
       "      <td>0</td>\n",
       "      <td>1</td>\n",
       "      <td>0</td>\n",
       "      <td>0</td>\n",
       "    </tr>\n",
       "    <tr>\n",
       "      <th>1</th>\n",
       "      <td>37</td>\n",
       "      <td>130</td>\n",
       "      <td>250</td>\n",
       "      <td>187</td>\n",
       "      <td>3.50</td>\n",
       "      <td>1</td>\n",
       "      <td>1</td>\n",
       "      <td>0</td>\n",
       "      <td>1</td>\n",
       "      <td>0</td>\n",
       "      <td>...</td>\n",
       "      <td>0</td>\n",
       "      <td>0</td>\n",
       "      <td>0</td>\n",
       "      <td>0</td>\n",
       "      <td>0</td>\n",
       "      <td>0</td>\n",
       "      <td>0</td>\n",
       "      <td>0</td>\n",
       "      <td>1</td>\n",
       "      <td>0</td>\n",
       "    </tr>\n",
       "    <tr>\n",
       "      <th>2</th>\n",
       "      <td>41</td>\n",
       "      <td>130</td>\n",
       "      <td>204</td>\n",
       "      <td>172</td>\n",
       "      <td>1.40</td>\n",
       "      <td>1</td>\n",
       "      <td>0</td>\n",
       "      <td>1</td>\n",
       "      <td>0</td>\n",
       "      <td>0</td>\n",
       "      <td>...</td>\n",
       "      <td>0</td>\n",
       "      <td>0</td>\n",
       "      <td>1</td>\n",
       "      <td>0</td>\n",
       "      <td>0</td>\n",
       "      <td>0</td>\n",
       "      <td>0</td>\n",
       "      <td>0</td>\n",
       "      <td>1</td>\n",
       "      <td>0</td>\n",
       "    </tr>\n",
       "    <tr>\n",
       "      <th>3</th>\n",
       "      <td>56</td>\n",
       "      <td>120</td>\n",
       "      <td>236</td>\n",
       "      <td>178</td>\n",
       "      <td>0.80</td>\n",
       "      <td>1</td>\n",
       "      <td>1</td>\n",
       "      <td>1</td>\n",
       "      <td>0</td>\n",
       "      <td>0</td>\n",
       "      <td>...</td>\n",
       "      <td>0</td>\n",
       "      <td>0</td>\n",
       "      <td>1</td>\n",
       "      <td>0</td>\n",
       "      <td>0</td>\n",
       "      <td>0</td>\n",
       "      <td>0</td>\n",
       "      <td>0</td>\n",
       "      <td>1</td>\n",
       "      <td>0</td>\n",
       "    </tr>\n",
       "    <tr>\n",
       "      <th>4</th>\n",
       "      <td>57</td>\n",
       "      <td>120</td>\n",
       "      <td>354</td>\n",
       "      <td>163</td>\n",
       "      <td>0.60</td>\n",
       "      <td>1</td>\n",
       "      <td>0</td>\n",
       "      <td>0</td>\n",
       "      <td>0</td>\n",
       "      <td>0</td>\n",
       "      <td>...</td>\n",
       "      <td>1</td>\n",
       "      <td>0</td>\n",
       "      <td>1</td>\n",
       "      <td>0</td>\n",
       "      <td>0</td>\n",
       "      <td>0</td>\n",
       "      <td>0</td>\n",
       "      <td>0</td>\n",
       "      <td>1</td>\n",
       "      <td>0</td>\n",
       "    </tr>\n",
       "  </tbody>\n",
       "</table>\n",
       "<p>5 rows × 23 columns</p>\n",
       "</div>"
      ],
      "text/plain": [
       "   age  trtbps  chol  thalachh  oldpeak  output  sex_1  cp_1  cp_2  cp_3  ...  \\\n",
       "0   63     145   233       150     2.30       1      1     0     0     1  ...   \n",
       "1   37     130   250       187     3.50       1      1     0     1     0  ...   \n",
       "2   41     130   204       172     1.40       1      0     1     0     0  ...   \n",
       "3   56     120   236       178     0.80       1      1     1     0     0  ...   \n",
       "4   57     120   354       163     0.60       1      0     0     0     0  ...   \n",
       "\n",
       "   exng_1  slp_1  slp_2  caa_1  caa_2  caa_3  caa_4  thall_1  thall_2  thall_3  \n",
       "0       0      0      0      0      0      0      0        1        0        0  \n",
       "1       0      0      0      0      0      0      0        0        1        0  \n",
       "2       0      0      1      0      0      0      0        0        1        0  \n",
       "3       0      0      1      0      0      0      0        0        1        0  \n",
       "4       1      0      1      0      0      0      0        0        1        0  \n",
       "\n",
       "[5 rows x 23 columns]"
      ]
     },
     "execution_count": 830,
     "metadata": {},
     "output_type": "execute_result"
    }
   ],
   "source": [
    "heart_data.head()"
   ]
  },
  {
   "cell_type": "markdown",
   "id": "796e0337",
   "metadata": {},
   "source": [
    "- 將經過資料預處理的數據集，拆分為男性與女性各自的 dataframe"
   ]
  },
  {
   "cell_type": "code",
   "execution_count": 831,
   "id": "f4ab1202",
   "metadata": {},
   "outputs": [],
   "source": [
    "Male_heart_data = heart_data[heart_data['sex_1'] == 1]\n",
    "Female_heart_data = heart_data[heart_data['sex_1'] == 0]"
   ]
  },
  {
   "cell_type": "code",
   "execution_count": 832,
   "id": "42fbdbc3",
   "metadata": {},
   "outputs": [
    {
     "data": {
      "text/html": [
       "<div>\n",
       "<style scoped>\n",
       "    .dataframe tbody tr th:only-of-type {\n",
       "        vertical-align: middle;\n",
       "    }\n",
       "\n",
       "    .dataframe tbody tr th {\n",
       "        vertical-align: top;\n",
       "    }\n",
       "\n",
       "    .dataframe thead th {\n",
       "        text-align: right;\n",
       "    }\n",
       "</style>\n",
       "<table border=\"1\" class=\"dataframe\">\n",
       "  <thead>\n",
       "    <tr style=\"text-align: right;\">\n",
       "      <th></th>\n",
       "      <th>age</th>\n",
       "      <th>trtbps</th>\n",
       "      <th>chol</th>\n",
       "      <th>thalachh</th>\n",
       "      <th>oldpeak</th>\n",
       "      <th>output</th>\n",
       "      <th>sex_1</th>\n",
       "      <th>cp_1</th>\n",
       "      <th>cp_2</th>\n",
       "      <th>cp_3</th>\n",
       "      <th>...</th>\n",
       "      <th>exng_1</th>\n",
       "      <th>slp_1</th>\n",
       "      <th>slp_2</th>\n",
       "      <th>caa_1</th>\n",
       "      <th>caa_2</th>\n",
       "      <th>caa_3</th>\n",
       "      <th>caa_4</th>\n",
       "      <th>thall_1</th>\n",
       "      <th>thall_2</th>\n",
       "      <th>thall_3</th>\n",
       "    </tr>\n",
       "  </thead>\n",
       "  <tbody>\n",
       "    <tr>\n",
       "      <th>0</th>\n",
       "      <td>63</td>\n",
       "      <td>145</td>\n",
       "      <td>233</td>\n",
       "      <td>150</td>\n",
       "      <td>2.30</td>\n",
       "      <td>1</td>\n",
       "      <td>1</td>\n",
       "      <td>0</td>\n",
       "      <td>0</td>\n",
       "      <td>1</td>\n",
       "      <td>...</td>\n",
       "      <td>0</td>\n",
       "      <td>0</td>\n",
       "      <td>0</td>\n",
       "      <td>0</td>\n",
       "      <td>0</td>\n",
       "      <td>0</td>\n",
       "      <td>0</td>\n",
       "      <td>1</td>\n",
       "      <td>0</td>\n",
       "      <td>0</td>\n",
       "    </tr>\n",
       "    <tr>\n",
       "      <th>1</th>\n",
       "      <td>37</td>\n",
       "      <td>130</td>\n",
       "      <td>250</td>\n",
       "      <td>187</td>\n",
       "      <td>3.50</td>\n",
       "      <td>1</td>\n",
       "      <td>1</td>\n",
       "      <td>0</td>\n",
       "      <td>1</td>\n",
       "      <td>0</td>\n",
       "      <td>...</td>\n",
       "      <td>0</td>\n",
       "      <td>0</td>\n",
       "      <td>0</td>\n",
       "      <td>0</td>\n",
       "      <td>0</td>\n",
       "      <td>0</td>\n",
       "      <td>0</td>\n",
       "      <td>0</td>\n",
       "      <td>1</td>\n",
       "      <td>0</td>\n",
       "    </tr>\n",
       "    <tr>\n",
       "      <th>3</th>\n",
       "      <td>56</td>\n",
       "      <td>120</td>\n",
       "      <td>236</td>\n",
       "      <td>178</td>\n",
       "      <td>0.80</td>\n",
       "      <td>1</td>\n",
       "      <td>1</td>\n",
       "      <td>1</td>\n",
       "      <td>0</td>\n",
       "      <td>0</td>\n",
       "      <td>...</td>\n",
       "      <td>0</td>\n",
       "      <td>0</td>\n",
       "      <td>1</td>\n",
       "      <td>0</td>\n",
       "      <td>0</td>\n",
       "      <td>0</td>\n",
       "      <td>0</td>\n",
       "      <td>0</td>\n",
       "      <td>1</td>\n",
       "      <td>0</td>\n",
       "    </tr>\n",
       "    <tr>\n",
       "      <th>5</th>\n",
       "      <td>57</td>\n",
       "      <td>140</td>\n",
       "      <td>192</td>\n",
       "      <td>148</td>\n",
       "      <td>0.40</td>\n",
       "      <td>1</td>\n",
       "      <td>1</td>\n",
       "      <td>0</td>\n",
       "      <td>0</td>\n",
       "      <td>0</td>\n",
       "      <td>...</td>\n",
       "      <td>0</td>\n",
       "      <td>1</td>\n",
       "      <td>0</td>\n",
       "      <td>0</td>\n",
       "      <td>0</td>\n",
       "      <td>0</td>\n",
       "      <td>0</td>\n",
       "      <td>1</td>\n",
       "      <td>0</td>\n",
       "      <td>0</td>\n",
       "    </tr>\n",
       "    <tr>\n",
       "      <th>7</th>\n",
       "      <td>44</td>\n",
       "      <td>120</td>\n",
       "      <td>263</td>\n",
       "      <td>173</td>\n",
       "      <td>0.00</td>\n",
       "      <td>1</td>\n",
       "      <td>1</td>\n",
       "      <td>1</td>\n",
       "      <td>0</td>\n",
       "      <td>0</td>\n",
       "      <td>...</td>\n",
       "      <td>0</td>\n",
       "      <td>0</td>\n",
       "      <td>1</td>\n",
       "      <td>0</td>\n",
       "      <td>0</td>\n",
       "      <td>0</td>\n",
       "      <td>0</td>\n",
       "      <td>0</td>\n",
       "      <td>0</td>\n",
       "      <td>1</td>\n",
       "    </tr>\n",
       "  </tbody>\n",
       "</table>\n",
       "<p>5 rows × 23 columns</p>\n",
       "</div>"
      ],
      "text/plain": [
       "   age  trtbps  chol  thalachh  oldpeak  output  sex_1  cp_1  cp_2  cp_3  ...  \\\n",
       "0   63     145   233       150     2.30       1      1     0     0     1  ...   \n",
       "1   37     130   250       187     3.50       1      1     0     1     0  ...   \n",
       "3   56     120   236       178     0.80       1      1     1     0     0  ...   \n",
       "5   57     140   192       148     0.40       1      1     0     0     0  ...   \n",
       "7   44     120   263       173     0.00       1      1     1     0     0  ...   \n",
       "\n",
       "   exng_1  slp_1  slp_2  caa_1  caa_2  caa_3  caa_4  thall_1  thall_2  thall_3  \n",
       "0       0      0      0      0      0      0      0        1        0        0  \n",
       "1       0      0      0      0      0      0      0        0        1        0  \n",
       "3       0      0      1      0      0      0      0        0        1        0  \n",
       "5       0      1      0      0      0      0      0        1        0        0  \n",
       "7       0      0      1      0      0      0      0        0        0        1  \n",
       "\n",
       "[5 rows x 23 columns]"
      ]
     },
     "execution_count": 832,
     "metadata": {},
     "output_type": "execute_result"
    }
   ],
   "source": [
    "Male_heart_data.head()"
   ]
  },
  {
   "cell_type": "code",
   "execution_count": 833,
   "id": "5c642cd0",
   "metadata": {},
   "outputs": [
    {
     "data": {
      "text/html": [
       "<div>\n",
       "<style scoped>\n",
       "    .dataframe tbody tr th:only-of-type {\n",
       "        vertical-align: middle;\n",
       "    }\n",
       "\n",
       "    .dataframe tbody tr th {\n",
       "        vertical-align: top;\n",
       "    }\n",
       "\n",
       "    .dataframe thead th {\n",
       "        text-align: right;\n",
       "    }\n",
       "</style>\n",
       "<table border=\"1\" class=\"dataframe\">\n",
       "  <thead>\n",
       "    <tr style=\"text-align: right;\">\n",
       "      <th></th>\n",
       "      <th>age</th>\n",
       "      <th>trtbps</th>\n",
       "      <th>chol</th>\n",
       "      <th>thalachh</th>\n",
       "      <th>oldpeak</th>\n",
       "      <th>output</th>\n",
       "      <th>sex_1</th>\n",
       "      <th>cp_1</th>\n",
       "      <th>cp_2</th>\n",
       "      <th>cp_3</th>\n",
       "      <th>...</th>\n",
       "      <th>exng_1</th>\n",
       "      <th>slp_1</th>\n",
       "      <th>slp_2</th>\n",
       "      <th>caa_1</th>\n",
       "      <th>caa_2</th>\n",
       "      <th>caa_3</th>\n",
       "      <th>caa_4</th>\n",
       "      <th>thall_1</th>\n",
       "      <th>thall_2</th>\n",
       "      <th>thall_3</th>\n",
       "    </tr>\n",
       "  </thead>\n",
       "  <tbody>\n",
       "    <tr>\n",
       "      <th>2</th>\n",
       "      <td>41</td>\n",
       "      <td>130</td>\n",
       "      <td>204</td>\n",
       "      <td>172</td>\n",
       "      <td>1.40</td>\n",
       "      <td>1</td>\n",
       "      <td>0</td>\n",
       "      <td>1</td>\n",
       "      <td>0</td>\n",
       "      <td>0</td>\n",
       "      <td>...</td>\n",
       "      <td>0</td>\n",
       "      <td>0</td>\n",
       "      <td>1</td>\n",
       "      <td>0</td>\n",
       "      <td>0</td>\n",
       "      <td>0</td>\n",
       "      <td>0</td>\n",
       "      <td>0</td>\n",
       "      <td>1</td>\n",
       "      <td>0</td>\n",
       "    </tr>\n",
       "    <tr>\n",
       "      <th>4</th>\n",
       "      <td>57</td>\n",
       "      <td>120</td>\n",
       "      <td>354</td>\n",
       "      <td>163</td>\n",
       "      <td>0.60</td>\n",
       "      <td>1</td>\n",
       "      <td>0</td>\n",
       "      <td>0</td>\n",
       "      <td>0</td>\n",
       "      <td>0</td>\n",
       "      <td>...</td>\n",
       "      <td>1</td>\n",
       "      <td>0</td>\n",
       "      <td>1</td>\n",
       "      <td>0</td>\n",
       "      <td>0</td>\n",
       "      <td>0</td>\n",
       "      <td>0</td>\n",
       "      <td>0</td>\n",
       "      <td>1</td>\n",
       "      <td>0</td>\n",
       "    </tr>\n",
       "    <tr>\n",
       "      <th>6</th>\n",
       "      <td>56</td>\n",
       "      <td>140</td>\n",
       "      <td>294</td>\n",
       "      <td>153</td>\n",
       "      <td>1.30</td>\n",
       "      <td>1</td>\n",
       "      <td>0</td>\n",
       "      <td>1</td>\n",
       "      <td>0</td>\n",
       "      <td>0</td>\n",
       "      <td>...</td>\n",
       "      <td>0</td>\n",
       "      <td>1</td>\n",
       "      <td>0</td>\n",
       "      <td>0</td>\n",
       "      <td>0</td>\n",
       "      <td>0</td>\n",
       "      <td>0</td>\n",
       "      <td>0</td>\n",
       "      <td>1</td>\n",
       "      <td>0</td>\n",
       "    </tr>\n",
       "    <tr>\n",
       "      <th>11</th>\n",
       "      <td>48</td>\n",
       "      <td>130</td>\n",
       "      <td>275</td>\n",
       "      <td>139</td>\n",
       "      <td>0.20</td>\n",
       "      <td>1</td>\n",
       "      <td>0</td>\n",
       "      <td>0</td>\n",
       "      <td>1</td>\n",
       "      <td>0</td>\n",
       "      <td>...</td>\n",
       "      <td>0</td>\n",
       "      <td>0</td>\n",
       "      <td>1</td>\n",
       "      <td>0</td>\n",
       "      <td>0</td>\n",
       "      <td>0</td>\n",
       "      <td>0</td>\n",
       "      <td>0</td>\n",
       "      <td>1</td>\n",
       "      <td>0</td>\n",
       "    </tr>\n",
       "    <tr>\n",
       "      <th>14</th>\n",
       "      <td>58</td>\n",
       "      <td>150</td>\n",
       "      <td>283</td>\n",
       "      <td>162</td>\n",
       "      <td>1.00</td>\n",
       "      <td>1</td>\n",
       "      <td>0</td>\n",
       "      <td>0</td>\n",
       "      <td>0</td>\n",
       "      <td>1</td>\n",
       "      <td>...</td>\n",
       "      <td>0</td>\n",
       "      <td>0</td>\n",
       "      <td>1</td>\n",
       "      <td>0</td>\n",
       "      <td>0</td>\n",
       "      <td>0</td>\n",
       "      <td>0</td>\n",
       "      <td>0</td>\n",
       "      <td>1</td>\n",
       "      <td>0</td>\n",
       "    </tr>\n",
       "  </tbody>\n",
       "</table>\n",
       "<p>5 rows × 23 columns</p>\n",
       "</div>"
      ],
      "text/plain": [
       "    age  trtbps  chol  thalachh  oldpeak  output  sex_1  cp_1  cp_2  cp_3  \\\n",
       "2    41     130   204       172     1.40       1      0     1     0     0   \n",
       "4    57     120   354       163     0.60       1      0     0     0     0   \n",
       "6    56     140   294       153     1.30       1      0     1     0     0   \n",
       "11   48     130   275       139     0.20       1      0     0     1     0   \n",
       "14   58     150   283       162     1.00       1      0     0     0     1   \n",
       "\n",
       "    ...  exng_1  slp_1  slp_2  caa_1  caa_2  caa_3  caa_4  thall_1  thall_2  \\\n",
       "2   ...       0      0      1      0      0      0      0        0        1   \n",
       "4   ...       1      0      1      0      0      0      0        0        1   \n",
       "6   ...       0      1      0      0      0      0      0        0        1   \n",
       "11  ...       0      0      1      0      0      0      0        0        1   \n",
       "14  ...       0      0      1      0      0      0      0        0        1   \n",
       "\n",
       "    thall_3  \n",
       "2         0  \n",
       "4         0  \n",
       "6         0  \n",
       "11        0  \n",
       "14        0  \n",
       "\n",
       "[5 rows x 23 columns]"
      ]
     },
     "execution_count": 833,
     "metadata": {},
     "output_type": "execute_result"
    }
   ],
   "source": [
    "Female_heart_data.head()"
   ]
  },
  {
   "cell_type": "markdown",
   "id": "79c38478",
   "metadata": {},
   "source": [
    "1. 建立男性的 Logistic Regression Model"
   ]
  },
  {
   "cell_type": "code",
   "execution_count": 834,
   "id": "460767e6",
   "metadata": {},
   "outputs": [
    {
     "data": {
      "text/plain": [
       "(199, 23)"
      ]
     },
     "execution_count": 834,
     "metadata": {},
     "output_type": "execute_result"
    }
   ],
   "source": [
    "Male_heart_data.shape"
   ]
  },
  {
   "cell_type": "code",
   "execution_count": 835,
   "id": "9d1792c7",
   "metadata": {},
   "outputs": [],
   "source": [
    "#Train test split\n",
    "X = Male_heart_data.drop('output', axis=1)\n",
    "y = Male_heart_data['output']\n",
    "X_train, X_test, y_train, y_test = train_test_split(X, y, test_size=0.2, random_state=101)"
   ]
  },
  {
   "cell_type": "code",
   "execution_count": 836,
   "id": "fbf09722",
   "metadata": {},
   "outputs": [],
   "source": [
    "#Normalization\n",
    "scaler = MinMaxScaler()\n",
    "X_train_normalized = scaler.fit_transform(X_train)\n",
    "X_test_normalized = scaler.transform(X_test)"
   ]
  },
  {
   "cell_type": "code",
   "execution_count": 837,
   "id": "b2df951a",
   "metadata": {},
   "outputs": [
    {
     "data": {
      "text/plain": [
       "(159, 22)"
      ]
     },
     "execution_count": 837,
     "metadata": {},
     "output_type": "execute_result"
    }
   ],
   "source": [
    "X_train_normalized.shape"
   ]
  },
  {
   "cell_type": "code",
   "execution_count": 838,
   "id": "c6df6a13",
   "metadata": {},
   "outputs": [
    {
     "data": {
      "text/plain": [
       "(40, 22)"
      ]
     },
     "execution_count": 838,
     "metadata": {},
     "output_type": "execute_result"
    }
   ],
   "source": [
    "X_test_normalized.shape"
   ]
  },
  {
   "cell_type": "markdown",
   "id": "9c3ffc0a",
   "metadata": {},
   "source": [
    "### 結果 1 : Male 不採納 PCA 結果，Accuracy: 85%"
   ]
  },
  {
   "cell_type": "code",
   "execution_count": 839,
   "id": "d853133b",
   "metadata": {},
   "outputs": [
    {
     "name": "stdout",
     "output_type": "stream",
     "text": [
      "Male - Accuracy of Logistic Regression without PCA: 0.85\n"
     ]
    }
   ],
   "source": [
    "#Model training and evaluation\n",
    "lr_model = LogisticRegression()\n",
    "lr_model.fit(X_train_normalized, y_train)\n",
    "y_pred_lr = lr_model.predict(X_test_normalized)\n",
    "accuracy_lr = round(accuracy_score(y_test, y_pred_lr), 2)\n",
    "print(\"Male - Accuracy of Logistic Regression without PCA:\", accuracy_lr)"
   ]
  },
  {
   "cell_type": "markdown",
   "id": "fdb28519",
   "metadata": {},
   "source": [
    "### 結果 2: Male 採納 PCA 結果，Accuracy: 75%"
   ]
  },
  {
   "cell_type": "code",
   "execution_count": 840,
   "id": "a44345a2",
   "metadata": {},
   "outputs": [
    {
     "data": {
      "text/plain": [
       "(159, 1)"
      ]
     },
     "execution_count": 840,
     "metadata": {},
     "output_type": "execute_result"
    }
   ],
   "source": [
    "#PCA\n",
    "pca = PCA(n_components=1)\n",
    "X_train_pca = pca.fit_transform(X_train_normalized)\n",
    "X_test_pca = pca.transform(X_test_normalized)\n",
    "\n",
    "X_train_pca.shape"
   ]
  },
  {
   "cell_type": "code",
   "execution_count": 841,
   "id": "96a46a52",
   "metadata": {},
   "outputs": [
    {
     "name": "stdout",
     "output_type": "stream",
     "text": [
      "Male - Accuracy of Logistic Regression after PCA: 0.75\n"
     ]
    }
   ],
   "source": [
    "#Model training and evaluation\n",
    "lr_model = LogisticRegression()\n",
    "lr_model.fit(X_train_pca, y_train)\n",
    "y_pred_lr = lr_model.predict(X_test_pca)\n",
    "accuracy_lr = round(accuracy_score(y_test, y_pred_lr), 2)\n",
    "print(\"Male - Accuracy of Logistic Regression after PCA:\", accuracy_lr)"
   ]
  },
  {
   "cell_type": "markdown",
   "id": "101fa202",
   "metadata": {},
   "source": [
    "2. 測試女性的 Logistic Regression Model"
   ]
  },
  {
   "cell_type": "code",
   "execution_count": 842,
   "id": "5e038a01",
   "metadata": {},
   "outputs": [
    {
     "data": {
      "text/plain": [
       "(85, 23)"
      ]
     },
     "execution_count": 842,
     "metadata": {},
     "output_type": "execute_result"
    }
   ],
   "source": [
    "Female_heart_data.shape"
   ]
  },
  {
   "cell_type": "code",
   "execution_count": 843,
   "id": "e4cf267b",
   "metadata": {},
   "outputs": [],
   "source": [
    "#Train test split\n",
    "X = Female_heart_data.drop('output', axis=1)\n",
    "y = Female_heart_data['output']\n",
    "X_train, X_test, y_train, y_test = train_test_split(X, y, test_size=0.2, random_state=101)"
   ]
  },
  {
   "cell_type": "code",
   "execution_count": 844,
   "id": "a1f90b1d",
   "metadata": {},
   "outputs": [],
   "source": [
    "#Normalization\n",
    "scaler = MinMaxScaler()\n",
    "X_train_normalized = scaler.fit_transform(X_train)\n",
    "X_test_normalized = scaler.transform(X_test)"
   ]
  },
  {
   "cell_type": "code",
   "execution_count": 845,
   "id": "00fa0cd3",
   "metadata": {},
   "outputs": [
    {
     "data": {
      "text/plain": [
       "(68, 22)"
      ]
     },
     "execution_count": 845,
     "metadata": {},
     "output_type": "execute_result"
    }
   ],
   "source": [
    "X_train_normalized.shape"
   ]
  },
  {
   "cell_type": "code",
   "execution_count": 846,
   "id": "d6ff89ff",
   "metadata": {},
   "outputs": [
    {
     "data": {
      "text/plain": [
       "(17, 22)"
      ]
     },
     "execution_count": 846,
     "metadata": {},
     "output_type": "execute_result"
    }
   ],
   "source": [
    "X_test_normalized.shape"
   ]
  },
  {
   "cell_type": "markdown",
   "id": "b13f799b",
   "metadata": {},
   "source": [
    "### 結果 1 : Female 不採納 PCA 結果，Accuracy: 94%"
   ]
  },
  {
   "cell_type": "code",
   "execution_count": 847,
   "id": "f6c300af",
   "metadata": {},
   "outputs": [
    {
     "name": "stdout",
     "output_type": "stream",
     "text": [
      "Female - Accuracy of Logistic Regression without PCA: 0.94\n"
     ]
    }
   ],
   "source": [
    "#Model training and evaluation\n",
    "lr_model = LogisticRegression()\n",
    "lr_model.fit(X_train_normalized, y_train)\n",
    "y_pred_lr = lr_model.predict(X_test_normalized)\n",
    "accuracy_lr = round(accuracy_score(y_test, y_pred_lr), 2)\n",
    "print(\"Female - Accuracy of Logistic Regression without PCA:\", accuracy_lr)"
   ]
  },
  {
   "cell_type": "markdown",
   "id": "3d7babf8",
   "metadata": {},
   "source": [
    "### 結果 2: Female 採納 PCA 結果，Accuracy: 94%"
   ]
  },
  {
   "cell_type": "code",
   "execution_count": 848,
   "id": "2a59704a",
   "metadata": {},
   "outputs": [
    {
     "data": {
      "text/plain": [
       "(68, 1)"
      ]
     },
     "execution_count": 848,
     "metadata": {},
     "output_type": "execute_result"
    }
   ],
   "source": [
    "#PCA\n",
    "pca = PCA(n_components=1)\n",
    "X_train_pca = pca.fit_transform(X_train_normalized)\n",
    "X_test_pca = pca.transform(X_test_normalized)\n",
    "\n",
    "X_train_pca.shape"
   ]
  },
  {
   "cell_type": "code",
   "execution_count": 849,
   "id": "a10d79e1",
   "metadata": {},
   "outputs": [
    {
     "name": "stdout",
     "output_type": "stream",
     "text": [
      "Female - Accuracy of Logistic Regression after PCA: 0.94\n"
     ]
    }
   ],
   "source": [
    "#Model training and evaluation\n",
    "lr_model = LogisticRegression()\n",
    "lr_model.fit(X_train_pca, y_train)\n",
    "y_pred_lr = lr_model.predict(X_test_pca)\n",
    "accuracy_lr = round(accuracy_score(y_test, y_pred_lr), 2)\n",
    "print(\"Female - Accuracy of Logistic Regression after PCA:\", accuracy_lr)"
   ]
  },
  {
   "cell_type": "markdown",
   "id": "e744c0f6",
   "metadata": {},
   "source": [
    "### Tune 3 - 進行 K-means 分群\n",
    "- 使用 K-means 將數據分為 2 clusters (分群), 讓 K-means 判斷 身體素質類似的病患 分為同一個群體\n",
    "- 訓練各別分群的 Logistic Regression Model，測試準確度是否會提升"
   ]
  },
  {
   "cell_type": "code",
   "execution_count": 850,
   "id": "47e7fced",
   "metadata": {},
   "outputs": [
    {
     "data": {
      "text/html": [
       "<div>\n",
       "<style scoped>\n",
       "    .dataframe tbody tr th:only-of-type {\n",
       "        vertical-align: middle;\n",
       "    }\n",
       "\n",
       "    .dataframe tbody tr th {\n",
       "        vertical-align: top;\n",
       "    }\n",
       "\n",
       "    .dataframe thead th {\n",
       "        text-align: right;\n",
       "    }\n",
       "</style>\n",
       "<table border=\"1\" class=\"dataframe\">\n",
       "  <thead>\n",
       "    <tr style=\"text-align: right;\">\n",
       "      <th></th>\n",
       "      <th>age</th>\n",
       "      <th>trtbps</th>\n",
       "      <th>chol</th>\n",
       "      <th>thalachh</th>\n",
       "      <th>oldpeak</th>\n",
       "      <th>output</th>\n",
       "      <th>sex_1</th>\n",
       "      <th>cp_1</th>\n",
       "      <th>cp_2</th>\n",
       "      <th>cp_3</th>\n",
       "      <th>...</th>\n",
       "      <th>exng_1</th>\n",
       "      <th>slp_1</th>\n",
       "      <th>slp_2</th>\n",
       "      <th>caa_1</th>\n",
       "      <th>caa_2</th>\n",
       "      <th>caa_3</th>\n",
       "      <th>caa_4</th>\n",
       "      <th>thall_1</th>\n",
       "      <th>thall_2</th>\n",
       "      <th>thall_3</th>\n",
       "    </tr>\n",
       "  </thead>\n",
       "  <tbody>\n",
       "    <tr>\n",
       "      <th>0</th>\n",
       "      <td>63</td>\n",
       "      <td>145</td>\n",
       "      <td>233</td>\n",
       "      <td>150</td>\n",
       "      <td>2.30</td>\n",
       "      <td>1</td>\n",
       "      <td>1</td>\n",
       "      <td>0</td>\n",
       "      <td>0</td>\n",
       "      <td>1</td>\n",
       "      <td>...</td>\n",
       "      <td>0</td>\n",
       "      <td>0</td>\n",
       "      <td>0</td>\n",
       "      <td>0</td>\n",
       "      <td>0</td>\n",
       "      <td>0</td>\n",
       "      <td>0</td>\n",
       "      <td>1</td>\n",
       "      <td>0</td>\n",
       "      <td>0</td>\n",
       "    </tr>\n",
       "    <tr>\n",
       "      <th>1</th>\n",
       "      <td>37</td>\n",
       "      <td>130</td>\n",
       "      <td>250</td>\n",
       "      <td>187</td>\n",
       "      <td>3.50</td>\n",
       "      <td>1</td>\n",
       "      <td>1</td>\n",
       "      <td>0</td>\n",
       "      <td>1</td>\n",
       "      <td>0</td>\n",
       "      <td>...</td>\n",
       "      <td>0</td>\n",
       "      <td>0</td>\n",
       "      <td>0</td>\n",
       "      <td>0</td>\n",
       "      <td>0</td>\n",
       "      <td>0</td>\n",
       "      <td>0</td>\n",
       "      <td>0</td>\n",
       "      <td>1</td>\n",
       "      <td>0</td>\n",
       "    </tr>\n",
       "    <tr>\n",
       "      <th>2</th>\n",
       "      <td>41</td>\n",
       "      <td>130</td>\n",
       "      <td>204</td>\n",
       "      <td>172</td>\n",
       "      <td>1.40</td>\n",
       "      <td>1</td>\n",
       "      <td>0</td>\n",
       "      <td>1</td>\n",
       "      <td>0</td>\n",
       "      <td>0</td>\n",
       "      <td>...</td>\n",
       "      <td>0</td>\n",
       "      <td>0</td>\n",
       "      <td>1</td>\n",
       "      <td>0</td>\n",
       "      <td>0</td>\n",
       "      <td>0</td>\n",
       "      <td>0</td>\n",
       "      <td>0</td>\n",
       "      <td>1</td>\n",
       "      <td>0</td>\n",
       "    </tr>\n",
       "    <tr>\n",
       "      <th>3</th>\n",
       "      <td>56</td>\n",
       "      <td>120</td>\n",
       "      <td>236</td>\n",
       "      <td>178</td>\n",
       "      <td>0.80</td>\n",
       "      <td>1</td>\n",
       "      <td>1</td>\n",
       "      <td>1</td>\n",
       "      <td>0</td>\n",
       "      <td>0</td>\n",
       "      <td>...</td>\n",
       "      <td>0</td>\n",
       "      <td>0</td>\n",
       "      <td>1</td>\n",
       "      <td>0</td>\n",
       "      <td>0</td>\n",
       "      <td>0</td>\n",
       "      <td>0</td>\n",
       "      <td>0</td>\n",
       "      <td>1</td>\n",
       "      <td>0</td>\n",
       "    </tr>\n",
       "    <tr>\n",
       "      <th>4</th>\n",
       "      <td>57</td>\n",
       "      <td>120</td>\n",
       "      <td>354</td>\n",
       "      <td>163</td>\n",
       "      <td>0.60</td>\n",
       "      <td>1</td>\n",
       "      <td>0</td>\n",
       "      <td>0</td>\n",
       "      <td>0</td>\n",
       "      <td>0</td>\n",
       "      <td>...</td>\n",
       "      <td>1</td>\n",
       "      <td>0</td>\n",
       "      <td>1</td>\n",
       "      <td>0</td>\n",
       "      <td>0</td>\n",
       "      <td>0</td>\n",
       "      <td>0</td>\n",
       "      <td>0</td>\n",
       "      <td>1</td>\n",
       "      <td>0</td>\n",
       "    </tr>\n",
       "  </tbody>\n",
       "</table>\n",
       "<p>5 rows × 23 columns</p>\n",
       "</div>"
      ],
      "text/plain": [
       "   age  trtbps  chol  thalachh  oldpeak  output  sex_1  cp_1  cp_2  cp_3  ...  \\\n",
       "0   63     145   233       150     2.30       1      1     0     0     1  ...   \n",
       "1   37     130   250       187     3.50       1      1     0     1     0  ...   \n",
       "2   41     130   204       172     1.40       1      0     1     0     0  ...   \n",
       "3   56     120   236       178     0.80       1      1     1     0     0  ...   \n",
       "4   57     120   354       163     0.60       1      0     0     0     0  ...   \n",
       "\n",
       "   exng_1  slp_1  slp_2  caa_1  caa_2  caa_3  caa_4  thall_1  thall_2  thall_3  \n",
       "0       0      0      0      0      0      0      0        1        0        0  \n",
       "1       0      0      0      0      0      0      0        0        1        0  \n",
       "2       0      0      1      0      0      0      0        0        1        0  \n",
       "3       0      0      1      0      0      0      0        0        1        0  \n",
       "4       1      0      1      0      0      0      0        0        1        0  \n",
       "\n",
       "[5 rows x 23 columns]"
      ]
     },
     "execution_count": 850,
     "metadata": {},
     "output_type": "execute_result"
    }
   ],
   "source": [
    "heart_data.head()"
   ]
  },
  {
   "cell_type": "markdown",
   "id": "2d4860f0",
   "metadata": {},
   "source": [
    "- 進行 K-means 分群，並將結果 (labels) 作為新的特徵標籤加入數據集"
   ]
  },
  {
   "cell_type": "code",
   "execution_count": 851,
   "id": "4840bdeb",
   "metadata": {},
   "outputs": [
    {
     "name": "stderr",
     "output_type": "stream",
     "text": [
      "C:\\Users\\Tiffany\\anaconda3\\lib\\site-packages\\sklearn\\cluster\\_kmeans.py:870: FutureWarning: The default value of `n_init` will change from 10 to 'auto' in 1.4. Set the value of `n_init` explicitly to suppress the warning\n",
      "  warnings.warn(\n",
      "C:\\Users\\Tiffany\\anaconda3\\lib\\site-packages\\sklearn\\cluster\\_kmeans.py:1382: UserWarning: KMeans is known to have a memory leak on Windows with MKL, when there are less chunks than available threads. You can avoid it by setting the environment variable OMP_NUM_THREADS=2.\n",
      "  warnings.warn(\n"
     ]
    },
    {
     "data": {
      "text/html": [
       "<div>\n",
       "<style scoped>\n",
       "    .dataframe tbody tr th:only-of-type {\n",
       "        vertical-align: middle;\n",
       "    }\n",
       "\n",
       "    .dataframe tbody tr th {\n",
       "        vertical-align: top;\n",
       "    }\n",
       "\n",
       "    .dataframe thead th {\n",
       "        text-align: right;\n",
       "    }\n",
       "</style>\n",
       "<table border=\"1\" class=\"dataframe\">\n",
       "  <thead>\n",
       "    <tr style=\"text-align: right;\">\n",
       "      <th></th>\n",
       "      <th>age</th>\n",
       "      <th>trtbps</th>\n",
       "      <th>chol</th>\n",
       "      <th>thalachh</th>\n",
       "      <th>oldpeak</th>\n",
       "      <th>output</th>\n",
       "      <th>sex_1</th>\n",
       "      <th>cp_1</th>\n",
       "      <th>cp_2</th>\n",
       "      <th>cp_3</th>\n",
       "      <th>...</th>\n",
       "      <th>slp_1</th>\n",
       "      <th>slp_2</th>\n",
       "      <th>caa_1</th>\n",
       "      <th>caa_2</th>\n",
       "      <th>caa_3</th>\n",
       "      <th>caa_4</th>\n",
       "      <th>thall_1</th>\n",
       "      <th>thall_2</th>\n",
       "      <th>thall_3</th>\n",
       "      <th>cluster</th>\n",
       "    </tr>\n",
       "  </thead>\n",
       "  <tbody>\n",
       "    <tr>\n",
       "      <th>0</th>\n",
       "      <td>63</td>\n",
       "      <td>145</td>\n",
       "      <td>233</td>\n",
       "      <td>150</td>\n",
       "      <td>2.30</td>\n",
       "      <td>1</td>\n",
       "      <td>1</td>\n",
       "      <td>0</td>\n",
       "      <td>0</td>\n",
       "      <td>1</td>\n",
       "      <td>...</td>\n",
       "      <td>0</td>\n",
       "      <td>0</td>\n",
       "      <td>0</td>\n",
       "      <td>0</td>\n",
       "      <td>0</td>\n",
       "      <td>0</td>\n",
       "      <td>1</td>\n",
       "      <td>0</td>\n",
       "      <td>0</td>\n",
       "      <td>0</td>\n",
       "    </tr>\n",
       "    <tr>\n",
       "      <th>1</th>\n",
       "      <td>37</td>\n",
       "      <td>130</td>\n",
       "      <td>250</td>\n",
       "      <td>187</td>\n",
       "      <td>3.50</td>\n",
       "      <td>1</td>\n",
       "      <td>1</td>\n",
       "      <td>0</td>\n",
       "      <td>1</td>\n",
       "      <td>0</td>\n",
       "      <td>...</td>\n",
       "      <td>0</td>\n",
       "      <td>0</td>\n",
       "      <td>0</td>\n",
       "      <td>0</td>\n",
       "      <td>0</td>\n",
       "      <td>0</td>\n",
       "      <td>0</td>\n",
       "      <td>1</td>\n",
       "      <td>0</td>\n",
       "      <td>0</td>\n",
       "    </tr>\n",
       "    <tr>\n",
       "      <th>2</th>\n",
       "      <td>41</td>\n",
       "      <td>130</td>\n",
       "      <td>204</td>\n",
       "      <td>172</td>\n",
       "      <td>1.40</td>\n",
       "      <td>1</td>\n",
       "      <td>0</td>\n",
       "      <td>1</td>\n",
       "      <td>0</td>\n",
       "      <td>0</td>\n",
       "      <td>...</td>\n",
       "      <td>0</td>\n",
       "      <td>1</td>\n",
       "      <td>0</td>\n",
       "      <td>0</td>\n",
       "      <td>0</td>\n",
       "      <td>0</td>\n",
       "      <td>0</td>\n",
       "      <td>1</td>\n",
       "      <td>0</td>\n",
       "      <td>0</td>\n",
       "    </tr>\n",
       "    <tr>\n",
       "      <th>3</th>\n",
       "      <td>56</td>\n",
       "      <td>120</td>\n",
       "      <td>236</td>\n",
       "      <td>178</td>\n",
       "      <td>0.80</td>\n",
       "      <td>1</td>\n",
       "      <td>1</td>\n",
       "      <td>1</td>\n",
       "      <td>0</td>\n",
       "      <td>0</td>\n",
       "      <td>...</td>\n",
       "      <td>0</td>\n",
       "      <td>1</td>\n",
       "      <td>0</td>\n",
       "      <td>0</td>\n",
       "      <td>0</td>\n",
       "      <td>0</td>\n",
       "      <td>0</td>\n",
       "      <td>1</td>\n",
       "      <td>0</td>\n",
       "      <td>0</td>\n",
       "    </tr>\n",
       "    <tr>\n",
       "      <th>4</th>\n",
       "      <td>57</td>\n",
       "      <td>120</td>\n",
       "      <td>354</td>\n",
       "      <td>163</td>\n",
       "      <td>0.60</td>\n",
       "      <td>1</td>\n",
       "      <td>0</td>\n",
       "      <td>0</td>\n",
       "      <td>0</td>\n",
       "      <td>0</td>\n",
       "      <td>...</td>\n",
       "      <td>0</td>\n",
       "      <td>1</td>\n",
       "      <td>0</td>\n",
       "      <td>0</td>\n",
       "      <td>0</td>\n",
       "      <td>0</td>\n",
       "      <td>0</td>\n",
       "      <td>1</td>\n",
       "      <td>0</td>\n",
       "      <td>1</td>\n",
       "    </tr>\n",
       "  </tbody>\n",
       "</table>\n",
       "<p>5 rows × 24 columns</p>\n",
       "</div>"
      ],
      "text/plain": [
       "   age  trtbps  chol  thalachh  oldpeak  output  sex_1  cp_1  cp_2  cp_3  ...  \\\n",
       "0   63     145   233       150     2.30       1      1     0     0     1  ...   \n",
       "1   37     130   250       187     3.50       1      1     0     1     0  ...   \n",
       "2   41     130   204       172     1.40       1      0     1     0     0  ...   \n",
       "3   56     120   236       178     0.80       1      1     1     0     0  ...   \n",
       "4   57     120   354       163     0.60       1      0     0     0     0  ...   \n",
       "\n",
       "   slp_1  slp_2  caa_1  caa_2  caa_3  caa_4  thall_1  thall_2  thall_3  \\\n",
       "0      0      0      0      0      0      0        1        0        0   \n",
       "1      0      0      0      0      0      0        0        1        0   \n",
       "2      0      1      0      0      0      0        0        1        0   \n",
       "3      0      1      0      0      0      0        0        1        0   \n",
       "4      0      1      0      0      0      0        0        1        0   \n",
       "\n",
       "   cluster  \n",
       "0        0  \n",
       "1        0  \n",
       "2        0  \n",
       "3        0  \n",
       "4        1  \n",
       "\n",
       "[5 rows x 24 columns]"
      ]
     },
     "execution_count": 851,
     "metadata": {},
     "output_type": "execute_result"
    }
   ],
   "source": [
    "X = heart_data.drop('output', axis=1)\n",
    "\n",
    "kmeans = KMeans(n_clusters=2).fit(X)\n",
    "heart_data['cluster'] = kmeans.labels_\n",
    "heart_data.head()"
   ]
  },
  {
   "cell_type": "markdown",
   "id": "2c382aef",
   "metadata": {},
   "source": [
    "- 依照 cluster column 將數據集拆分為 2 個 dataframe 進行測試"
   ]
  },
  {
   "cell_type": "code",
   "execution_count": 852,
   "id": "aa361075",
   "metadata": {},
   "outputs": [],
   "source": [
    "cluster_0 = heart_data[heart_data['cluster'] ==0]\n",
    "cluster_1 = heart_data[heart_data['cluster'] ==1]"
   ]
  },
  {
   "cell_type": "code",
   "execution_count": 853,
   "id": "817d41a2",
   "metadata": {},
   "outputs": [
    {
     "data": {
      "text/html": [
       "<div>\n",
       "<style scoped>\n",
       "    .dataframe tbody tr th:only-of-type {\n",
       "        vertical-align: middle;\n",
       "    }\n",
       "\n",
       "    .dataframe tbody tr th {\n",
       "        vertical-align: top;\n",
       "    }\n",
       "\n",
       "    .dataframe thead th {\n",
       "        text-align: right;\n",
       "    }\n",
       "</style>\n",
       "<table border=\"1\" class=\"dataframe\">\n",
       "  <thead>\n",
       "    <tr style=\"text-align: right;\">\n",
       "      <th></th>\n",
       "      <th>age</th>\n",
       "      <th>trtbps</th>\n",
       "      <th>chol</th>\n",
       "      <th>thalachh</th>\n",
       "      <th>oldpeak</th>\n",
       "      <th>output</th>\n",
       "      <th>sex_1</th>\n",
       "      <th>cp_1</th>\n",
       "      <th>cp_2</th>\n",
       "      <th>cp_3</th>\n",
       "      <th>...</th>\n",
       "      <th>slp_1</th>\n",
       "      <th>slp_2</th>\n",
       "      <th>caa_1</th>\n",
       "      <th>caa_2</th>\n",
       "      <th>caa_3</th>\n",
       "      <th>caa_4</th>\n",
       "      <th>thall_1</th>\n",
       "      <th>thall_2</th>\n",
       "      <th>thall_3</th>\n",
       "      <th>cluster</th>\n",
       "    </tr>\n",
       "  </thead>\n",
       "  <tbody>\n",
       "    <tr>\n",
       "      <th>0</th>\n",
       "      <td>63</td>\n",
       "      <td>145</td>\n",
       "      <td>233</td>\n",
       "      <td>150</td>\n",
       "      <td>2.30</td>\n",
       "      <td>1</td>\n",
       "      <td>1</td>\n",
       "      <td>0</td>\n",
       "      <td>0</td>\n",
       "      <td>1</td>\n",
       "      <td>...</td>\n",
       "      <td>0</td>\n",
       "      <td>0</td>\n",
       "      <td>0</td>\n",
       "      <td>0</td>\n",
       "      <td>0</td>\n",
       "      <td>0</td>\n",
       "      <td>1</td>\n",
       "      <td>0</td>\n",
       "      <td>0</td>\n",
       "      <td>0</td>\n",
       "    </tr>\n",
       "    <tr>\n",
       "      <th>1</th>\n",
       "      <td>37</td>\n",
       "      <td>130</td>\n",
       "      <td>250</td>\n",
       "      <td>187</td>\n",
       "      <td>3.50</td>\n",
       "      <td>1</td>\n",
       "      <td>1</td>\n",
       "      <td>0</td>\n",
       "      <td>1</td>\n",
       "      <td>0</td>\n",
       "      <td>...</td>\n",
       "      <td>0</td>\n",
       "      <td>0</td>\n",
       "      <td>0</td>\n",
       "      <td>0</td>\n",
       "      <td>0</td>\n",
       "      <td>0</td>\n",
       "      <td>0</td>\n",
       "      <td>1</td>\n",
       "      <td>0</td>\n",
       "      <td>0</td>\n",
       "    </tr>\n",
       "    <tr>\n",
       "      <th>2</th>\n",
       "      <td>41</td>\n",
       "      <td>130</td>\n",
       "      <td>204</td>\n",
       "      <td>172</td>\n",
       "      <td>1.40</td>\n",
       "      <td>1</td>\n",
       "      <td>0</td>\n",
       "      <td>1</td>\n",
       "      <td>0</td>\n",
       "      <td>0</td>\n",
       "      <td>...</td>\n",
       "      <td>0</td>\n",
       "      <td>1</td>\n",
       "      <td>0</td>\n",
       "      <td>0</td>\n",
       "      <td>0</td>\n",
       "      <td>0</td>\n",
       "      <td>0</td>\n",
       "      <td>1</td>\n",
       "      <td>0</td>\n",
       "      <td>0</td>\n",
       "    </tr>\n",
       "    <tr>\n",
       "      <th>3</th>\n",
       "      <td>56</td>\n",
       "      <td>120</td>\n",
       "      <td>236</td>\n",
       "      <td>178</td>\n",
       "      <td>0.80</td>\n",
       "      <td>1</td>\n",
       "      <td>1</td>\n",
       "      <td>1</td>\n",
       "      <td>0</td>\n",
       "      <td>0</td>\n",
       "      <td>...</td>\n",
       "      <td>0</td>\n",
       "      <td>1</td>\n",
       "      <td>0</td>\n",
       "      <td>0</td>\n",
       "      <td>0</td>\n",
       "      <td>0</td>\n",
       "      <td>0</td>\n",
       "      <td>1</td>\n",
       "      <td>0</td>\n",
       "      <td>0</td>\n",
       "    </tr>\n",
       "    <tr>\n",
       "      <th>5</th>\n",
       "      <td>57</td>\n",
       "      <td>140</td>\n",
       "      <td>192</td>\n",
       "      <td>148</td>\n",
       "      <td>0.40</td>\n",
       "      <td>1</td>\n",
       "      <td>1</td>\n",
       "      <td>0</td>\n",
       "      <td>0</td>\n",
       "      <td>0</td>\n",
       "      <td>...</td>\n",
       "      <td>1</td>\n",
       "      <td>0</td>\n",
       "      <td>0</td>\n",
       "      <td>0</td>\n",
       "      <td>0</td>\n",
       "      <td>0</td>\n",
       "      <td>1</td>\n",
       "      <td>0</td>\n",
       "      <td>0</td>\n",
       "      <td>0</td>\n",
       "    </tr>\n",
       "  </tbody>\n",
       "</table>\n",
       "<p>5 rows × 24 columns</p>\n",
       "</div>"
      ],
      "text/plain": [
       "   age  trtbps  chol  thalachh  oldpeak  output  sex_1  cp_1  cp_2  cp_3  ...  \\\n",
       "0   63     145   233       150     2.30       1      1     0     0     1  ...   \n",
       "1   37     130   250       187     3.50       1      1     0     1     0  ...   \n",
       "2   41     130   204       172     1.40       1      0     1     0     0  ...   \n",
       "3   56     120   236       178     0.80       1      1     1     0     0  ...   \n",
       "5   57     140   192       148     0.40       1      1     0     0     0  ...   \n",
       "\n",
       "   slp_1  slp_2  caa_1  caa_2  caa_3  caa_4  thall_1  thall_2  thall_3  \\\n",
       "0      0      0      0      0      0      0        1        0        0   \n",
       "1      0      0      0      0      0      0        0        1        0   \n",
       "2      0      1      0      0      0      0        0        1        0   \n",
       "3      0      1      0      0      0      0        0        1        0   \n",
       "5      1      0      0      0      0      0        1        0        0   \n",
       "\n",
       "   cluster  \n",
       "0        0  \n",
       "1        0  \n",
       "2        0  \n",
       "3        0  \n",
       "5        0  \n",
       "\n",
       "[5 rows x 24 columns]"
      ]
     },
     "execution_count": 853,
     "metadata": {},
     "output_type": "execute_result"
    }
   ],
   "source": [
    "cluster_0.head()"
   ]
  },
  {
   "cell_type": "code",
   "execution_count": 854,
   "id": "c9672865",
   "metadata": {},
   "outputs": [
    {
     "data": {
      "text/html": [
       "<div>\n",
       "<style scoped>\n",
       "    .dataframe tbody tr th:only-of-type {\n",
       "        vertical-align: middle;\n",
       "    }\n",
       "\n",
       "    .dataframe tbody tr th {\n",
       "        vertical-align: top;\n",
       "    }\n",
       "\n",
       "    .dataframe thead th {\n",
       "        text-align: right;\n",
       "    }\n",
       "</style>\n",
       "<table border=\"1\" class=\"dataframe\">\n",
       "  <thead>\n",
       "    <tr style=\"text-align: right;\">\n",
       "      <th></th>\n",
       "      <th>age</th>\n",
       "      <th>trtbps</th>\n",
       "      <th>chol</th>\n",
       "      <th>thalachh</th>\n",
       "      <th>oldpeak</th>\n",
       "      <th>output</th>\n",
       "      <th>sex_1</th>\n",
       "      <th>cp_1</th>\n",
       "      <th>cp_2</th>\n",
       "      <th>cp_3</th>\n",
       "      <th>...</th>\n",
       "      <th>slp_1</th>\n",
       "      <th>slp_2</th>\n",
       "      <th>caa_1</th>\n",
       "      <th>caa_2</th>\n",
       "      <th>caa_3</th>\n",
       "      <th>caa_4</th>\n",
       "      <th>thall_1</th>\n",
       "      <th>thall_2</th>\n",
       "      <th>thall_3</th>\n",
       "      <th>cluster</th>\n",
       "    </tr>\n",
       "  </thead>\n",
       "  <tbody>\n",
       "    <tr>\n",
       "      <th>4</th>\n",
       "      <td>57</td>\n",
       "      <td>120</td>\n",
       "      <td>354</td>\n",
       "      <td>163</td>\n",
       "      <td>0.60</td>\n",
       "      <td>1</td>\n",
       "      <td>0</td>\n",
       "      <td>0</td>\n",
       "      <td>0</td>\n",
       "      <td>0</td>\n",
       "      <td>...</td>\n",
       "      <td>0</td>\n",
       "      <td>1</td>\n",
       "      <td>0</td>\n",
       "      <td>0</td>\n",
       "      <td>0</td>\n",
       "      <td>0</td>\n",
       "      <td>0</td>\n",
       "      <td>1</td>\n",
       "      <td>0</td>\n",
       "      <td>1</td>\n",
       "    </tr>\n",
       "    <tr>\n",
       "      <th>6</th>\n",
       "      <td>56</td>\n",
       "      <td>140</td>\n",
       "      <td>294</td>\n",
       "      <td>153</td>\n",
       "      <td>1.30</td>\n",
       "      <td>1</td>\n",
       "      <td>0</td>\n",
       "      <td>1</td>\n",
       "      <td>0</td>\n",
       "      <td>0</td>\n",
       "      <td>...</td>\n",
       "      <td>1</td>\n",
       "      <td>0</td>\n",
       "      <td>0</td>\n",
       "      <td>0</td>\n",
       "      <td>0</td>\n",
       "      <td>0</td>\n",
       "      <td>0</td>\n",
       "      <td>1</td>\n",
       "      <td>0</td>\n",
       "      <td>1</td>\n",
       "    </tr>\n",
       "    <tr>\n",
       "      <th>7</th>\n",
       "      <td>44</td>\n",
       "      <td>120</td>\n",
       "      <td>263</td>\n",
       "      <td>173</td>\n",
       "      <td>0.00</td>\n",
       "      <td>1</td>\n",
       "      <td>1</td>\n",
       "      <td>1</td>\n",
       "      <td>0</td>\n",
       "      <td>0</td>\n",
       "      <td>...</td>\n",
       "      <td>0</td>\n",
       "      <td>1</td>\n",
       "      <td>0</td>\n",
       "      <td>0</td>\n",
       "      <td>0</td>\n",
       "      <td>0</td>\n",
       "      <td>0</td>\n",
       "      <td>0</td>\n",
       "      <td>1</td>\n",
       "      <td>1</td>\n",
       "    </tr>\n",
       "    <tr>\n",
       "      <th>11</th>\n",
       "      <td>48</td>\n",
       "      <td>130</td>\n",
       "      <td>275</td>\n",
       "      <td>139</td>\n",
       "      <td>0.20</td>\n",
       "      <td>1</td>\n",
       "      <td>0</td>\n",
       "      <td>0</td>\n",
       "      <td>1</td>\n",
       "      <td>0</td>\n",
       "      <td>...</td>\n",
       "      <td>0</td>\n",
       "      <td>1</td>\n",
       "      <td>0</td>\n",
       "      <td>0</td>\n",
       "      <td>0</td>\n",
       "      <td>0</td>\n",
       "      <td>0</td>\n",
       "      <td>1</td>\n",
       "      <td>0</td>\n",
       "      <td>1</td>\n",
       "    </tr>\n",
       "    <tr>\n",
       "      <th>12</th>\n",
       "      <td>49</td>\n",
       "      <td>130</td>\n",
       "      <td>266</td>\n",
       "      <td>171</td>\n",
       "      <td>0.60</td>\n",
       "      <td>1</td>\n",
       "      <td>1</td>\n",
       "      <td>1</td>\n",
       "      <td>0</td>\n",
       "      <td>0</td>\n",
       "      <td>...</td>\n",
       "      <td>0</td>\n",
       "      <td>1</td>\n",
       "      <td>0</td>\n",
       "      <td>0</td>\n",
       "      <td>0</td>\n",
       "      <td>0</td>\n",
       "      <td>0</td>\n",
       "      <td>1</td>\n",
       "      <td>0</td>\n",
       "      <td>1</td>\n",
       "    </tr>\n",
       "  </tbody>\n",
       "</table>\n",
       "<p>5 rows × 24 columns</p>\n",
       "</div>"
      ],
      "text/plain": [
       "    age  trtbps  chol  thalachh  oldpeak  output  sex_1  cp_1  cp_2  cp_3  \\\n",
       "4    57     120   354       163     0.60       1      0     0     0     0   \n",
       "6    56     140   294       153     1.30       1      0     1     0     0   \n",
       "7    44     120   263       173     0.00       1      1     1     0     0   \n",
       "11   48     130   275       139     0.20       1      0     0     1     0   \n",
       "12   49     130   266       171     0.60       1      1     1     0     0   \n",
       "\n",
       "    ...  slp_1  slp_2  caa_1  caa_2  caa_3  caa_4  thall_1  thall_2  thall_3  \\\n",
       "4   ...      0      1      0      0      0      0        0        1        0   \n",
       "6   ...      1      0      0      0      0      0        0        1        0   \n",
       "7   ...      0      1      0      0      0      0        0        0        1   \n",
       "11  ...      0      1      0      0      0      0        0        1        0   \n",
       "12  ...      0      1      0      0      0      0        0        1        0   \n",
       "\n",
       "    cluster  \n",
       "4         1  \n",
       "6         1  \n",
       "7         1  \n",
       "11        1  \n",
       "12        1  \n",
       "\n",
       "[5 rows x 24 columns]"
      ]
     },
     "execution_count": 854,
     "metadata": {},
     "output_type": "execute_result"
    }
   ],
   "source": [
    "cluster_1.head()"
   ]
  },
  {
   "cell_type": "markdown",
   "id": "69dd39d8",
   "metadata": {},
   "source": [
    "1. 測試 cluster_0 的 Logistic Regression Model"
   ]
  },
  {
   "cell_type": "code",
   "execution_count": 855,
   "id": "f46dfd40",
   "metadata": {},
   "outputs": [
    {
     "data": {
      "text/plain": [
       "(165, 24)"
      ]
     },
     "execution_count": 855,
     "metadata": {},
     "output_type": "execute_result"
    }
   ],
   "source": [
    "cluster_0.shape"
   ]
  },
  {
   "cell_type": "code",
   "execution_count": 856,
   "id": "db011d98",
   "metadata": {},
   "outputs": [],
   "source": [
    "#Train test split\n",
    "X = cluster_0.drop('output', axis=1)\n",
    "y = cluster_0['output']\n",
    "X_train, X_test, y_train, y_test = train_test_split(X, y, test_size=0.2, random_state=101)"
   ]
  },
  {
   "cell_type": "code",
   "execution_count": 857,
   "id": "d016237d",
   "metadata": {},
   "outputs": [],
   "source": [
    "#Normalization\n",
    "scaler = MinMaxScaler()\n",
    "X_train_normalized = scaler.fit_transform(X_train)\n",
    "X_test_normalized = scaler.transform(X_test)"
   ]
  },
  {
   "cell_type": "code",
   "execution_count": 858,
   "id": "2a83d4e4",
   "metadata": {},
   "outputs": [
    {
     "data": {
      "text/plain": [
       "(132, 23)"
      ]
     },
     "execution_count": 858,
     "metadata": {},
     "output_type": "execute_result"
    }
   ],
   "source": [
    "X_train_normalized.shape"
   ]
  },
  {
   "cell_type": "code",
   "execution_count": 859,
   "id": "a7ba6a6f",
   "metadata": {},
   "outputs": [
    {
     "data": {
      "text/plain": [
       "(33, 23)"
      ]
     },
     "execution_count": 859,
     "metadata": {},
     "output_type": "execute_result"
    }
   ],
   "source": [
    "X_test_normalized.shape"
   ]
  },
  {
   "cell_type": "markdown",
   "id": "0534b9a1",
   "metadata": {},
   "source": [
    "### 結果 1 : cluster_0 不採納 PCA 結果，Accuracy: 82%"
   ]
  },
  {
   "cell_type": "code",
   "execution_count": 860,
   "id": "1b9e13fa",
   "metadata": {},
   "outputs": [
    {
     "name": "stdout",
     "output_type": "stream",
     "text": [
      "cluster_0 - Accuracy of Logistic Regression without PCA: 0.82\n"
     ]
    }
   ],
   "source": [
    "#Model training and evaluation\n",
    "lr_model = LogisticRegression()\n",
    "lr_model.fit(X_train_normalized, y_train)\n",
    "y_pred_lr = lr_model.predict(X_test_normalized)\n",
    "accuracy_lr = round(accuracy_score(y_test, y_pred_lr), 2)\n",
    "print(\"cluster_0 - Accuracy of Logistic Regression without PCA:\", accuracy_lr)"
   ]
  },
  {
   "cell_type": "markdown",
   "id": "1bd70f18",
   "metadata": {},
   "source": [
    "### 結果 2 : cluster_0 採納 PCA 結果，Accuracy: 76%"
   ]
  },
  {
   "cell_type": "code",
   "execution_count": 861,
   "id": "aafa83e8",
   "metadata": {},
   "outputs": [
    {
     "data": {
      "text/plain": [
       "(132, 1)"
      ]
     },
     "execution_count": 861,
     "metadata": {},
     "output_type": "execute_result"
    }
   ],
   "source": [
    "#PCA\n",
    "pca = PCA(n_components=1)\n",
    "X_train_pca = pca.fit_transform(X_train_normalized)\n",
    "X_test_pca = pca.transform(X_test_normalized)\n",
    "\n",
    "X_train_pca.shape"
   ]
  },
  {
   "cell_type": "code",
   "execution_count": 862,
   "id": "55bef98e",
   "metadata": {},
   "outputs": [
    {
     "name": "stdout",
     "output_type": "stream",
     "text": [
      "cluster_0 - Accuracy of Logistic Regression after PCA: 0.76\n"
     ]
    }
   ],
   "source": [
    "#Model training and evaluation\n",
    "lr_model = LogisticRegression()\n",
    "lr_model.fit(X_train_pca, y_train)\n",
    "y_pred_lr = lr_model.predict(X_test_pca)\n",
    "accuracy_lr = round(accuracy_score(y_test, y_pred_lr), 2)\n",
    "print(\"cluster_0 - Accuracy of Logistic Regression after PCA:\", accuracy_lr)"
   ]
  },
  {
   "cell_type": "markdown",
   "id": "ae2666b0",
   "metadata": {},
   "source": [
    "2. 測試 cluster_1 的 Logistic Regression Model"
   ]
  },
  {
   "cell_type": "code",
   "execution_count": 863,
   "id": "b42e35cc",
   "metadata": {},
   "outputs": [
    {
     "data": {
      "text/plain": [
       "(119, 24)"
      ]
     },
     "execution_count": 863,
     "metadata": {},
     "output_type": "execute_result"
    }
   ],
   "source": [
    "cluster_1.shape"
   ]
  },
  {
   "cell_type": "code",
   "execution_count": 864,
   "id": "d02ada19",
   "metadata": {},
   "outputs": [],
   "source": [
    "#Train test split\n",
    "X = cluster_1.drop('output', axis=1)\n",
    "y = cluster_1['output']\n",
    "X_train, X_test, y_train, y_test = train_test_split(X, y, test_size=0.2, random_state=101)"
   ]
  },
  {
   "cell_type": "code",
   "execution_count": 865,
   "id": "f5967761",
   "metadata": {},
   "outputs": [],
   "source": [
    "#Normalization\n",
    "scaler = MinMaxScaler()\n",
    "X_train_normalized = scaler.fit_transform(X_train)\n",
    "X_test_normalized = scaler.transform(X_test)"
   ]
  },
  {
   "cell_type": "code",
   "execution_count": 866,
   "id": "bdc51558",
   "metadata": {},
   "outputs": [
    {
     "data": {
      "text/plain": [
       "(95, 23)"
      ]
     },
     "execution_count": 866,
     "metadata": {},
     "output_type": "execute_result"
    }
   ],
   "source": [
    "X_train_normalized.shape"
   ]
  },
  {
   "cell_type": "code",
   "execution_count": 867,
   "id": "4c1000e3",
   "metadata": {},
   "outputs": [
    {
     "data": {
      "text/plain": [
       "(24, 23)"
      ]
     },
     "execution_count": 867,
     "metadata": {},
     "output_type": "execute_result"
    }
   ],
   "source": [
    "X_test_normalized.shape"
   ]
  },
  {
   "cell_type": "markdown",
   "id": "743c7c34",
   "metadata": {},
   "source": [
    "### 結果 1 :cluster_1 不採納 PCA 結果，Accuracy: 92%"
   ]
  },
  {
   "cell_type": "code",
   "execution_count": 868,
   "id": "94e90609",
   "metadata": {},
   "outputs": [
    {
     "name": "stdout",
     "output_type": "stream",
     "text": [
      "cluster_1 - Accuracy of Logistic Regression without PCA: 0.92\n"
     ]
    }
   ],
   "source": [
    "#Model training and evaluation\n",
    "lr_model = LogisticRegression()\n",
    "lr_model.fit(X_train_normalized, y_train)\n",
    "y_pred_lr = lr_model.predict(X_test_normalized)\n",
    "accuracy_lr = round(accuracy_score(y_test, y_pred_lr), 2)\n",
    "print(\"cluster_1 - Accuracy of Logistic Regression without PCA:\", accuracy_lr)"
   ]
  },
  {
   "cell_type": "markdown",
   "id": "70b9261b",
   "metadata": {},
   "source": [
    "### 結果 2 : cluster_1 採納 PCA 結果，Accuracy: 96%"
   ]
  },
  {
   "cell_type": "code",
   "execution_count": 869,
   "id": "bfce4056",
   "metadata": {},
   "outputs": [
    {
     "data": {
      "text/plain": [
       "(95, 1)"
      ]
     },
     "execution_count": 869,
     "metadata": {},
     "output_type": "execute_result"
    }
   ],
   "source": [
    "#PCA\n",
    "pca = PCA(n_components=1)\n",
    "X_train_pca = pca.fit_transform(X_train_normalized)\n",
    "X_test_pca = pca.transform(X_test_normalized)\n",
    "\n",
    "X_train_pca.shape"
   ]
  },
  {
   "cell_type": "code",
   "execution_count": 870,
   "id": "d1e7b5e9",
   "metadata": {},
   "outputs": [
    {
     "name": "stdout",
     "output_type": "stream",
     "text": [
      "cluster_1 - Accuracy of Logistic Regression after PCA: 0.96\n"
     ]
    }
   ],
   "source": [
    "#Model training and evaluation\n",
    "lr_model = LogisticRegression()\n",
    "lr_model.fit(X_train_pca, y_train)\n",
    "y_pred_lr = lr_model.predict(X_test_pca)\n",
    "accuracy_lr = round(accuracy_score(y_test, y_pred_lr), 2)\n",
    "print(\"cluster_1 - Accuracy of Logistic Regression after PCA:\", accuracy_lr)"
   ]
  },
  {
   "cell_type": "markdown",
   "id": "875fd9a6",
   "metadata": {},
   "source": [
    "### Summary"
   ]
  },
  {
   "cell_type": "markdown",
   "id": "06c86e74",
   "metadata": {},
   "source": [
    "### 原始 Logistic Regression 模型 (82%)\n",
    "\n",
    "### Tune 1 - 納入PCA\n",
    "- Accuracy of Logistic Regression after PCA: 84%\n",
    "\n",
    "### Tune 2 - 進行性別分群 (建立男女性別各自的 Logistic Regression Model)\n",
    "不採納 PCA 結果:\n",
    "- Male Accuracy: 85%\n",
    "- Female: Accuracy: 94%\n",
    "\n",
    "採納 PCA 結果:\n",
    "- Male Accuracy: 75%\n",
    "- Female Accuracy: 94%\n",
    "\n",
    "### Tune 3 - 進行 K-means 分群 (建立 2 clusters 各自的 Logistic Regression Model)\n",
    "不採納 PCA 結果:\n",
    "- cluster_0 - Accuracy: 82%\n",
    "- cluster_1 - Accuracy: 92%\n",
    "\n",
    "採納 PCA 結果:\n",
    "- cluster_0 - Accuracy: 76%\n",
    "- cluster_1 - Accuracy: 96%\n",
    "\n",
    "### 使用 \"PCA\" 後的模型預測, 精準度從 82% 提升至 84%\n",
    "### 使用 \"性別分群\" 後的模型預測,對於 \"女性\" 有較顯著的提升, 精準度為94%\n",
    "### 使用 \"K-means分群\" 後的模型預測, 搭配使用 PCA的cluster_1 精準度可達到96%\n",
    "\n",
    "備註: 由於原始資料集本身樣本不多(300多筆),在預測準確度上會根據資料數量有較大幅度的變化,\n",
    "此處的採用男女或K-means分群後再各自進行模型預測,對於某些分群結果有較大的精準度提升."
   ]
  },
  {
   "cell_type": "code",
   "execution_count": null,
   "id": "fa44fada",
   "metadata": {},
   "outputs": [],
   "source": []
  }
 ],
 "metadata": {
  "kernelspec": {
   "display_name": "Python 3 (ipykernel)",
   "language": "python",
   "name": "python3"
  },
  "language_info": {
   "codemirror_mode": {
    "name": "ipython",
    "version": 3
   },
   "file_extension": ".py",
   "mimetype": "text/x-python",
   "name": "python",
   "nbconvert_exporter": "python",
   "pygments_lexer": "ipython3",
   "version": "3.11.4"
  }
 },
 "nbformat": 4,
 "nbformat_minor": 5
}
